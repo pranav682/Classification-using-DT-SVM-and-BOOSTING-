{
 "cells": [
  {
   "cell_type": "markdown",
   "metadata": {},
   "source": [
    "# Support Vector Machine Classifiers & Experimentation\n",
    "## Wisconsin Breast Cancer Diagnosis Prediction\n",
    "## Importing Packages "
   ]
  },
  {
   "cell_type": "code",
   "execution_count": 189,
   "metadata": {
    "collapsed": true
   },
   "outputs": [],
   "source": [
    "# To support both python 2 and python 3\n",
    "from __future__ import division, print_function, unicode_literals\n",
    "\n",
    "# Common imports\n",
    "import numpy as np\n",
    "import os\n",
    "\n",
    "import pandas as pd\n",
    "from sklearn.model_selection import train_test_split\n",
    "\n",
    "import seaborn as sns\n",
    "from sklearn.metrics import confusion_matrix\n",
    "from sklearn.metrics import classification_report\n",
    "from sklearn.metrics import accuracy_score\n",
    "import warnings\n",
    "from matplotlib.pylab import rcParams\n",
    "%matplotlib inline\n",
    "from sklearn import svm\n",
    "from sklearn import preprocessing\n",
    "\n",
    "# to make this notebook's output stable across runs\n",
    "np.random.seed(42)\n",
    "\n",
    "# To plot pretty figures\n",
    "%matplotlib inline\n",
    "import matplotlib\n",
    "import matplotlib.pyplot as plt\n",
    "from IPython.core.interactiveshell import InteractiveShell\n",
    "InteractiveShell.ast_node_interactivity = \"all\"\n",
    "warnings.filterwarnings(\"ignore\")\n",
    "plt.rcParams['axes.labelsize'] = 14\n",
    "plt.rcParams['xtick.labelsize'] = 12\n",
    "plt.rcParams['ytick.labelsize'] = 12\n",
    "\n"
   ]
  },
  {
   "cell_type": "code",
   "execution_count": 190,
   "metadata": {
    "collapsed": true
   },
   "outputs": [],
   "source": [
    "diagnosis = pd.read_csv(\"wisconsin_breast_cancer_diagnosis.csv\")"
   ]
  },
  {
   "cell_type": "code",
   "execution_count": 191,
   "metadata": {
    "collapsed": true
   },
   "outputs": [],
   "source": [
    "diagnosis= diagnosis[pd.notnull(diagnosis['diagnosis'])]"
   ]
  },
  {
   "cell_type": "code",
   "execution_count": 192,
   "metadata": {},
   "outputs": [
    {
     "data": {
      "text/html": [
       "<div>\n",
       "<style>\n",
       "    .dataframe thead tr:only-child th {\n",
       "        text-align: right;\n",
       "    }\n",
       "\n",
       "    .dataframe thead th {\n",
       "        text-align: left;\n",
       "    }\n",
       "\n",
       "    .dataframe tbody tr th {\n",
       "        vertical-align: top;\n",
       "    }\n",
       "</style>\n",
       "<table border=\"1\" class=\"dataframe\">\n",
       "  <thead>\n",
       "    <tr style=\"text-align: right;\">\n",
       "      <th></th>\n",
       "      <th>id</th>\n",
       "      <th>diagnosis</th>\n",
       "      <th>radius_mean</th>\n",
       "      <th>texture_mean</th>\n",
       "      <th>perimeter_mean</th>\n",
       "      <th>area_mean</th>\n",
       "      <th>smoothness_mean</th>\n",
       "      <th>compactness_mean</th>\n",
       "      <th>concavity_mean</th>\n",
       "      <th>concave points_mean</th>\n",
       "      <th>...</th>\n",
       "      <th>texture_worst</th>\n",
       "      <th>perimeter_worst</th>\n",
       "      <th>area_worst</th>\n",
       "      <th>smoothness_worst</th>\n",
       "      <th>compactness_worst</th>\n",
       "      <th>concavity_worst</th>\n",
       "      <th>concave points_worst</th>\n",
       "      <th>symmetry_worst</th>\n",
       "      <th>fractal_dimension_worst</th>\n",
       "      <th>Unnamed: 32</th>\n",
       "    </tr>\n",
       "  </thead>\n",
       "  <tbody>\n",
       "    <tr>\n",
       "      <th>0</th>\n",
       "      <td>842302</td>\n",
       "      <td>M</td>\n",
       "      <td>17.99</td>\n",
       "      <td>10.38</td>\n",
       "      <td>122.80</td>\n",
       "      <td>1001.0</td>\n",
       "      <td>0.11840</td>\n",
       "      <td>0.27760</td>\n",
       "      <td>0.3001</td>\n",
       "      <td>0.14710</td>\n",
       "      <td>...</td>\n",
       "      <td>17.33</td>\n",
       "      <td>184.60</td>\n",
       "      <td>2019.0</td>\n",
       "      <td>0.1622</td>\n",
       "      <td>0.6656</td>\n",
       "      <td>0.7119</td>\n",
       "      <td>0.2654</td>\n",
       "      <td>0.4601</td>\n",
       "      <td>0.11890</td>\n",
       "      <td>NaN</td>\n",
       "    </tr>\n",
       "    <tr>\n",
       "      <th>1</th>\n",
       "      <td>842517</td>\n",
       "      <td>M</td>\n",
       "      <td>20.57</td>\n",
       "      <td>17.77</td>\n",
       "      <td>132.90</td>\n",
       "      <td>1326.0</td>\n",
       "      <td>0.08474</td>\n",
       "      <td>0.07864</td>\n",
       "      <td>0.0869</td>\n",
       "      <td>0.07017</td>\n",
       "      <td>...</td>\n",
       "      <td>23.41</td>\n",
       "      <td>158.80</td>\n",
       "      <td>1956.0</td>\n",
       "      <td>0.1238</td>\n",
       "      <td>0.1866</td>\n",
       "      <td>0.2416</td>\n",
       "      <td>0.1860</td>\n",
       "      <td>0.2750</td>\n",
       "      <td>0.08902</td>\n",
       "      <td>NaN</td>\n",
       "    </tr>\n",
       "    <tr>\n",
       "      <th>2</th>\n",
       "      <td>84300903</td>\n",
       "      <td>M</td>\n",
       "      <td>19.69</td>\n",
       "      <td>21.25</td>\n",
       "      <td>130.00</td>\n",
       "      <td>1203.0</td>\n",
       "      <td>0.10960</td>\n",
       "      <td>0.15990</td>\n",
       "      <td>0.1974</td>\n",
       "      <td>0.12790</td>\n",
       "      <td>...</td>\n",
       "      <td>25.53</td>\n",
       "      <td>152.50</td>\n",
       "      <td>1709.0</td>\n",
       "      <td>0.1444</td>\n",
       "      <td>0.4245</td>\n",
       "      <td>0.4504</td>\n",
       "      <td>0.2430</td>\n",
       "      <td>0.3613</td>\n",
       "      <td>0.08758</td>\n",
       "      <td>NaN</td>\n",
       "    </tr>\n",
       "    <tr>\n",
       "      <th>3</th>\n",
       "      <td>84348301</td>\n",
       "      <td>M</td>\n",
       "      <td>11.42</td>\n",
       "      <td>20.38</td>\n",
       "      <td>77.58</td>\n",
       "      <td>386.1</td>\n",
       "      <td>0.14250</td>\n",
       "      <td>0.28390</td>\n",
       "      <td>0.2414</td>\n",
       "      <td>0.10520</td>\n",
       "      <td>...</td>\n",
       "      <td>26.50</td>\n",
       "      <td>98.87</td>\n",
       "      <td>567.7</td>\n",
       "      <td>0.2098</td>\n",
       "      <td>0.8663</td>\n",
       "      <td>0.6869</td>\n",
       "      <td>0.2575</td>\n",
       "      <td>0.6638</td>\n",
       "      <td>0.17300</td>\n",
       "      <td>NaN</td>\n",
       "    </tr>\n",
       "    <tr>\n",
       "      <th>4</th>\n",
       "      <td>84358402</td>\n",
       "      <td>M</td>\n",
       "      <td>20.29</td>\n",
       "      <td>14.34</td>\n",
       "      <td>135.10</td>\n",
       "      <td>1297.0</td>\n",
       "      <td>0.10030</td>\n",
       "      <td>0.13280</td>\n",
       "      <td>0.1980</td>\n",
       "      <td>0.10430</td>\n",
       "      <td>...</td>\n",
       "      <td>16.67</td>\n",
       "      <td>152.20</td>\n",
       "      <td>1575.0</td>\n",
       "      <td>0.1374</td>\n",
       "      <td>0.2050</td>\n",
       "      <td>0.4000</td>\n",
       "      <td>0.1625</td>\n",
       "      <td>0.2364</td>\n",
       "      <td>0.07678</td>\n",
       "      <td>NaN</td>\n",
       "    </tr>\n",
       "  </tbody>\n",
       "</table>\n",
       "<p>5 rows × 33 columns</p>\n",
       "</div>"
      ],
      "text/plain": [
       "         id diagnosis  radius_mean  texture_mean  perimeter_mean  area_mean  \\\n",
       "0    842302         M        17.99         10.38          122.80     1001.0   \n",
       "1    842517         M        20.57         17.77          132.90     1326.0   \n",
       "2  84300903         M        19.69         21.25          130.00     1203.0   \n",
       "3  84348301         M        11.42         20.38           77.58      386.1   \n",
       "4  84358402         M        20.29         14.34          135.10     1297.0   \n",
       "\n",
       "   smoothness_mean  compactness_mean  concavity_mean  concave points_mean  \\\n",
       "0          0.11840           0.27760          0.3001              0.14710   \n",
       "1          0.08474           0.07864          0.0869              0.07017   \n",
       "2          0.10960           0.15990          0.1974              0.12790   \n",
       "3          0.14250           0.28390          0.2414              0.10520   \n",
       "4          0.10030           0.13280          0.1980              0.10430   \n",
       "\n",
       "      ...       texture_worst  perimeter_worst  area_worst  smoothness_worst  \\\n",
       "0     ...               17.33           184.60      2019.0            0.1622   \n",
       "1     ...               23.41           158.80      1956.0            0.1238   \n",
       "2     ...               25.53           152.50      1709.0            0.1444   \n",
       "3     ...               26.50            98.87       567.7            0.2098   \n",
       "4     ...               16.67           152.20      1575.0            0.1374   \n",
       "\n",
       "   compactness_worst  concavity_worst  concave points_worst  symmetry_worst  \\\n",
       "0             0.6656           0.7119                0.2654          0.4601   \n",
       "1             0.1866           0.2416                0.1860          0.2750   \n",
       "2             0.4245           0.4504                0.2430          0.3613   \n",
       "3             0.8663           0.6869                0.2575          0.6638   \n",
       "4             0.2050           0.4000                0.1625          0.2364   \n",
       "\n",
       "   fractal_dimension_worst  Unnamed: 32  \n",
       "0                  0.11890          NaN  \n",
       "1                  0.08902          NaN  \n",
       "2                  0.08758          NaN  \n",
       "3                  0.17300          NaN  \n",
       "4                  0.07678          NaN  \n",
       "\n",
       "[5 rows x 33 columns]"
      ]
     },
     "execution_count": 192,
     "metadata": {},
     "output_type": "execute_result"
    }
   ],
   "source": [
    "diagnosis.head()"
   ]
  },
  {
   "cell_type": "code",
   "execution_count": 193,
   "metadata": {},
   "outputs": [
    {
     "data": {
      "text/html": [
       "<div>\n",
       "<style>\n",
       "    .dataframe thead tr:only-child th {\n",
       "        text-align: right;\n",
       "    }\n",
       "\n",
       "    .dataframe thead th {\n",
       "        text-align: left;\n",
       "    }\n",
       "\n",
       "    .dataframe tbody tr th {\n",
       "        vertical-align: top;\n",
       "    }\n",
       "</style>\n",
       "<table border=\"1\" class=\"dataframe\">\n",
       "  <thead>\n",
       "    <tr style=\"text-align: right;\">\n",
       "      <th></th>\n",
       "      <th>radius_mean</th>\n",
       "      <th>texture_mean</th>\n",
       "      <th>perimeter_mean</th>\n",
       "      <th>area_mean</th>\n",
       "      <th>smoothness_mean</th>\n",
       "      <th>compactness_mean</th>\n",
       "      <th>concavity_mean</th>\n",
       "      <th>concave points_mean</th>\n",
       "      <th>symmetry_mean</th>\n",
       "      <th>fractal_dimension_mean</th>\n",
       "      <th>...</th>\n",
       "      <th>radius_worst</th>\n",
       "      <th>texture_worst</th>\n",
       "      <th>perimeter_worst</th>\n",
       "      <th>area_worst</th>\n",
       "      <th>smoothness_worst</th>\n",
       "      <th>compactness_worst</th>\n",
       "      <th>concavity_worst</th>\n",
       "      <th>concave points_worst</th>\n",
       "      <th>symmetry_worst</th>\n",
       "      <th>fractal_dimension_worst</th>\n",
       "    </tr>\n",
       "  </thead>\n",
       "  <tbody>\n",
       "    <tr>\n",
       "      <th>0</th>\n",
       "      <td>17.99</td>\n",
       "      <td>10.38</td>\n",
       "      <td>122.80</td>\n",
       "      <td>1001.0</td>\n",
       "      <td>0.11840</td>\n",
       "      <td>0.27760</td>\n",
       "      <td>0.3001</td>\n",
       "      <td>0.14710</td>\n",
       "      <td>0.2419</td>\n",
       "      <td>0.07871</td>\n",
       "      <td>...</td>\n",
       "      <td>25.38</td>\n",
       "      <td>17.33</td>\n",
       "      <td>184.60</td>\n",
       "      <td>2019.0</td>\n",
       "      <td>0.1622</td>\n",
       "      <td>0.6656</td>\n",
       "      <td>0.7119</td>\n",
       "      <td>0.2654</td>\n",
       "      <td>0.4601</td>\n",
       "      <td>0.11890</td>\n",
       "    </tr>\n",
       "    <tr>\n",
       "      <th>1</th>\n",
       "      <td>20.57</td>\n",
       "      <td>17.77</td>\n",
       "      <td>132.90</td>\n",
       "      <td>1326.0</td>\n",
       "      <td>0.08474</td>\n",
       "      <td>0.07864</td>\n",
       "      <td>0.0869</td>\n",
       "      <td>0.07017</td>\n",
       "      <td>0.1812</td>\n",
       "      <td>0.05667</td>\n",
       "      <td>...</td>\n",
       "      <td>24.99</td>\n",
       "      <td>23.41</td>\n",
       "      <td>158.80</td>\n",
       "      <td>1956.0</td>\n",
       "      <td>0.1238</td>\n",
       "      <td>0.1866</td>\n",
       "      <td>0.2416</td>\n",
       "      <td>0.1860</td>\n",
       "      <td>0.2750</td>\n",
       "      <td>0.08902</td>\n",
       "    </tr>\n",
       "    <tr>\n",
       "      <th>2</th>\n",
       "      <td>19.69</td>\n",
       "      <td>21.25</td>\n",
       "      <td>130.00</td>\n",
       "      <td>1203.0</td>\n",
       "      <td>0.10960</td>\n",
       "      <td>0.15990</td>\n",
       "      <td>0.1974</td>\n",
       "      <td>0.12790</td>\n",
       "      <td>0.2069</td>\n",
       "      <td>0.05999</td>\n",
       "      <td>...</td>\n",
       "      <td>23.57</td>\n",
       "      <td>25.53</td>\n",
       "      <td>152.50</td>\n",
       "      <td>1709.0</td>\n",
       "      <td>0.1444</td>\n",
       "      <td>0.4245</td>\n",
       "      <td>0.4504</td>\n",
       "      <td>0.2430</td>\n",
       "      <td>0.3613</td>\n",
       "      <td>0.08758</td>\n",
       "    </tr>\n",
       "    <tr>\n",
       "      <th>3</th>\n",
       "      <td>11.42</td>\n",
       "      <td>20.38</td>\n",
       "      <td>77.58</td>\n",
       "      <td>386.1</td>\n",
       "      <td>0.14250</td>\n",
       "      <td>0.28390</td>\n",
       "      <td>0.2414</td>\n",
       "      <td>0.10520</td>\n",
       "      <td>0.2597</td>\n",
       "      <td>0.09744</td>\n",
       "      <td>...</td>\n",
       "      <td>14.91</td>\n",
       "      <td>26.50</td>\n",
       "      <td>98.87</td>\n",
       "      <td>567.7</td>\n",
       "      <td>0.2098</td>\n",
       "      <td>0.8663</td>\n",
       "      <td>0.6869</td>\n",
       "      <td>0.2575</td>\n",
       "      <td>0.6638</td>\n",
       "      <td>0.17300</td>\n",
       "    </tr>\n",
       "    <tr>\n",
       "      <th>4</th>\n",
       "      <td>20.29</td>\n",
       "      <td>14.34</td>\n",
       "      <td>135.10</td>\n",
       "      <td>1297.0</td>\n",
       "      <td>0.10030</td>\n",
       "      <td>0.13280</td>\n",
       "      <td>0.1980</td>\n",
       "      <td>0.10430</td>\n",
       "      <td>0.1809</td>\n",
       "      <td>0.05883</td>\n",
       "      <td>...</td>\n",
       "      <td>22.54</td>\n",
       "      <td>16.67</td>\n",
       "      <td>152.20</td>\n",
       "      <td>1575.0</td>\n",
       "      <td>0.1374</td>\n",
       "      <td>0.2050</td>\n",
       "      <td>0.4000</td>\n",
       "      <td>0.1625</td>\n",
       "      <td>0.2364</td>\n",
       "      <td>0.07678</td>\n",
       "    </tr>\n",
       "  </tbody>\n",
       "</table>\n",
       "<p>5 rows × 30 columns</p>\n",
       "</div>"
      ],
      "text/plain": [
       "   radius_mean  texture_mean  perimeter_mean  area_mean  smoothness_mean  \\\n",
       "0        17.99         10.38          122.80     1001.0          0.11840   \n",
       "1        20.57         17.77          132.90     1326.0          0.08474   \n",
       "2        19.69         21.25          130.00     1203.0          0.10960   \n",
       "3        11.42         20.38           77.58      386.1          0.14250   \n",
       "4        20.29         14.34          135.10     1297.0          0.10030   \n",
       "\n",
       "   compactness_mean  concavity_mean  concave points_mean  symmetry_mean  \\\n",
       "0           0.27760          0.3001              0.14710         0.2419   \n",
       "1           0.07864          0.0869              0.07017         0.1812   \n",
       "2           0.15990          0.1974              0.12790         0.2069   \n",
       "3           0.28390          0.2414              0.10520         0.2597   \n",
       "4           0.13280          0.1980              0.10430         0.1809   \n",
       "\n",
       "   fractal_dimension_mean           ...             radius_worst  \\\n",
       "0                 0.07871           ...                    25.38   \n",
       "1                 0.05667           ...                    24.99   \n",
       "2                 0.05999           ...                    23.57   \n",
       "3                 0.09744           ...                    14.91   \n",
       "4                 0.05883           ...                    22.54   \n",
       "\n",
       "   texture_worst  perimeter_worst  area_worst  smoothness_worst  \\\n",
       "0          17.33           184.60      2019.0            0.1622   \n",
       "1          23.41           158.80      1956.0            0.1238   \n",
       "2          25.53           152.50      1709.0            0.1444   \n",
       "3          26.50            98.87       567.7            0.2098   \n",
       "4          16.67           152.20      1575.0            0.1374   \n",
       "\n",
       "   compactness_worst  concavity_worst  concave points_worst  symmetry_worst  \\\n",
       "0             0.6656           0.7119                0.2654          0.4601   \n",
       "1             0.1866           0.2416                0.1860          0.2750   \n",
       "2             0.4245           0.4504                0.2430          0.3613   \n",
       "3             0.8663           0.6869                0.2575          0.6638   \n",
       "4             0.2050           0.4000                0.1625          0.2364   \n",
       "\n",
       "   fractal_dimension_worst  \n",
       "0                  0.11890  \n",
       "1                  0.08902  \n",
       "2                  0.08758  \n",
       "3                  0.17300  \n",
       "4                  0.07678  \n",
       "\n",
       "[5 rows x 30 columns]"
      ]
     },
     "execution_count": 193,
     "metadata": {},
     "output_type": "execute_result"
    }
   ],
   "source": [
    "diagnosis.iloc[:,2:32].head()"
   ]
  },
  {
   "cell_type": "code",
   "execution_count": 194,
   "metadata": {},
   "outputs": [],
   "source": [
    "from sklearn.svm import SVC\n",
    "\n",
    "X = diagnosis.iloc[:,2:32]  \n",
    "y = diagnosis.iloc[:,1]\n",
    "y.replace(['B', 'M'], [0, 1], inplace=True)\n"
   ]
  },
  {
   "cell_type": "code",
   "execution_count": 195,
   "metadata": {
    "collapsed": true
   },
   "outputs": [],
   "source": [
    "# Split in training and testing\n",
    "from sklearn.model_selection import train_test_split\n",
    "X_train, X_test, y_train, y_test = train_test_split(X, y, test_size=0.30)\n",
    "\n"
   ]
  },
  {
   "cell_type": "code",
   "execution_count": 196,
   "metadata": {
    "collapsed": true
   },
   "outputs": [],
   "source": [
    "# Scale\n",
    "from sklearn.preprocessing import StandardScaler\n",
    "X_sca = StandardScaler()\n",
    "X_train = X_sca.fit_transform(X_train)\n",
    "X_test = X_sca.transform(X_test)"
   ]
  },
  {
   "cell_type": "code",
   "execution_count": 197,
   "metadata": {
    "collapsed": true
   },
   "outputs": [],
   "source": [
    "from sklearn.svm import SVC #support vector classifier\n",
    "clf = SVC(kernel='linear', random_state=111).fit(X_train, y_train)"
   ]
  },
  {
   "cell_type": "code",
   "execution_count": 198,
   "metadata": {},
   "outputs": [
    {
     "data": {
      "text/plain": [
       "array([[106,   2],\n",
       "       [  2,  61]])"
      ]
     },
     "execution_count": 198,
     "metadata": {},
     "output_type": "execute_result"
    }
   ],
   "source": [
    "y_pred = clf.predict(X_test)\n",
    "from sklearn.metrics import confusion_matrix\n",
    "cm = confusion_matrix(y_test, y_pred)\n",
    "cm"
   ]
  },
  {
   "cell_type": "code",
   "execution_count": 199,
   "metadata": {},
   "outputs": [
    {
     "data": {
      "text/plain": [
       "0.9766081871345029"
      ]
     },
     "execution_count": 199,
     "metadata": {},
     "output_type": "execute_result"
    }
   ],
   "source": [
    "from sklearn.metrics import accuracy_score\n",
    "\n",
    "accuracy_score(y_test, y_pred)"
   ]
  },
  {
   "cell_type": "code",
   "execution_count": 200,
   "metadata": {},
   "outputs": [],
   "source": [
    "from sklearn import cross_validation\n",
    "X_train, X_test, y_train, y_test =   cross_validation.train_test_split(X,   y, test_size=0.30, random_state=111)\n"
   ]
  },
  {
   "cell_type": "code",
   "execution_count": 201,
   "metadata": {
    "collapsed": true
   },
   "outputs": [],
   "source": [
    "# Scale\n",
    "from sklearn.preprocessing import StandardScaler\n",
    "X_sca = StandardScaler()\n",
    "X_train = X_sca.fit_transform(X_train)\n",
    "X_test = X_sca.transform(X_test)"
   ]
  },
  {
   "cell_type": "code",
   "execution_count": 221,
   "metadata": {},
   "outputs": [
    {
     "data": {
      "text/plain": [
       "array([[101,   2],\n",
       "       [  3,  65]])"
      ]
     },
     "execution_count": 221,
     "metadata": {},
     "output_type": "execute_result"
    }
   ],
   "source": [
    "from sklearn.svm import SVC #support vector classifier\n",
    "clf = SVC(kernel='linear', random_state=111).fit(X_train, y_train)\n",
    "y_pred = clf.predict(X_test)\n",
    "from sklearn.metrics import confusion_matrix\n",
    "cm = confusion_matrix(y_test, y_pred)\n",
    "cm"
   ]
  },
  {
   "cell_type": "code",
   "execution_count": 222,
   "metadata": {},
   "outputs": [
    {
     "name": "stdout",
     "output_type": "stream",
     "text": [
      "Train accuracy = 98.49%\n",
      "Test accuracy = 97.08%\n",
      "\n",
      " Confusion Matrix: \n",
      "\n",
      "[[101   2]\n",
      " [  3  65]]\n",
      "\n",
      " Classification Report: \n",
      "\n",
      "             precision    recall  f1-score   support\n",
      "\n",
      "          0       0.97      0.98      0.98       103\n",
      "          1       0.97      0.96      0.96        68\n",
      "\n",
      "avg / total       0.97      0.97      0.97       171\n",
      "\n"
     ]
    }
   ],
   "source": [
    "print('Train accuracy = {0}%'.format(np.round(clf.score(X_train, y_train) * 100, 2)))\n",
    "print('Test accuracy = {0}%'.format(np.round(clf.score(X_test, y_test) * 100, 2)))\n",
    "predictions = clf.predict(X_test)\n",
    "print(\"\\n Confusion Matrix: \\n\")\n",
    "print(confusion_matrix(y_test.values, predictions))\n",
    "print(\"\\n Classification Report: \\n\")\n",
    "print(classification_report(y_test.values, predictions))\n"
   ]
  },
  {
   "cell_type": "markdown",
   "metadata": {},
   "source": [
    "## Tuning the C- value (Penalty parameter)"
   ]
  },
  {
   "cell_type": "code",
   "execution_count": 238,
   "metadata": {},
   "outputs": [],
   "source": [
    "accuracy_test=[None]*100\n",
    "accuracy_train=[None]*100\n",
    "c = [None]*100\n",
    "count=0\n",
    "c[0] = 1\n",
    "for i in range(100):\n",
    "    clf = svm.SVC(C= c[i], random_state=111, kernel='linear',class_weight='balanced', verbose=False, max_iter=-1, decision_function_shape='ovr').fit(X_train, y_train)\n",
    "    accuracy_train[i] = np.round(clf.score(X_train, y_train) * 100, 2)\n",
    "    accuracy_test[i] = np.round(clf.score(X_test, y_test) * 100, 2)\n",
    "    if i < 99:\n",
    "        c[i+1] = c[i] + 0.2"
   ]
  },
  {
   "cell_type": "code",
   "execution_count": 245,
   "metadata": {},
   "outputs": [
    {
     "data": {
      "text/plain": [
       "[<matplotlib.lines.Line2D at 0x1f8db6254e0>]"
      ]
     },
     "execution_count": 245,
     "metadata": {},
     "output_type": "execute_result"
    },
    {
     "data": {
      "text/plain": [
       "[<matplotlib.lines.Line2D at 0x1f8dc64bfd0>]"
      ]
     },
     "execution_count": 245,
     "metadata": {},
     "output_type": "execute_result"
    },
    {
     "data": {
      "text/plain": [
       "<matplotlib.text.Text at 0x1f8dc6235f8>"
      ]
     },
     "execution_count": 245,
     "metadata": {},
     "output_type": "execute_result"
    },
    {
     "data": {
      "text/plain": [
       "<matplotlib.text.Text at 0x1f8db19e6a0>"
      ]
     },
     "execution_count": 245,
     "metadata": {},
     "output_type": "execute_result"
    },
    {
     "data": {
      "text/plain": [
       "<matplotlib.text.Text at 0x1f8db62b7b8>"
      ]
     },
     "execution_count": 245,
     "metadata": {},
     "output_type": "execute_result"
    },
    {
     "data": {
      "text/plain": [
       "<matplotlib.legend.Legend at 0x1f8dc655a90>"
      ]
     },
     "execution_count": 245,
     "metadata": {},
     "output_type": "execute_result"
    },
    {
     "data": {
      "image/png": "[encoded data removed]",
      "text/plain": [
       "<matplotlib.figure.Figure at 0x1f8db625518>"
      ]
     },
     "metadata": {},
     "output_type": "display_data"
    }
   ],
   "source": [
    "ax1 = plt.subplot2grid((6,1),(0,0),rowspan=5,colspan=1)\n",
    "ax1.plot(c,accuracy_test)\n",
    "ax1.plot(c,accuracy_train)\n",
    "\n",
    "\n",
    "plt.title(\"SVM | Accuracy vs C-value\")\n",
    "plt.xlabel(\"C-value\")\n",
    "plt.ylabel(\"Accuracy\")\n",
    "\n",
    "plt.legend(['Test Set','Train Set'])"
   ]
  },
  {
   "cell_type": "markdown",
   "metadata": {},
   "source": [
    "### C = 1.2 looks like optimum value "
   ]
  },
  {
   "cell_type": "code",
   "execution_count": 243,
   "metadata": {},
   "outputs": [
    {
     "data": {
      "text/plain": [
       "SVC(C=1.2, cache_size=200, class_weight='balanced', coef0=0.0,\n",
       "  decision_function_shape='ovr', degree=3, gamma='auto', kernel='linear',\n",
       "  max_iter=-1, probability=False, random_state=111, shrinking=True,\n",
       "  tol=0.001, verbose=False)"
      ]
     },
     "execution_count": 243,
     "metadata": {},
     "output_type": "execute_result"
    },
    {
     "name": "stdout",
     "output_type": "stream",
     "text": [
      "Train accuracy = 98.74%\n",
      "Test accuracy = 97.66%\n",
      "\n",
      " Confusion Matrix: \n",
      "\n",
      "[[101   2]\n",
      " [  2  66]]\n",
      "\n",
      " Classification Report: \n",
      "\n",
      "             precision    recall  f1-score   support\n",
      "\n",
      "          0       0.98      0.98      0.98       103\n",
      "          1       0.97      0.97      0.97        68\n",
      "\n",
      "avg / total       0.98      0.98      0.98       171\n",
      "\n"
     ]
    },
    {
     "data": {
      "text/plain": [
       "0.015572547912597656"
      ]
     },
     "execution_count": 243,
     "metadata": {},
     "output_type": "execute_result"
    }
   ],
   "source": [
    "start = time.time()\n",
    "\n",
    "clf = svm.SVC(C=1.2, random_state=111,kernel='linear', class_weight='balanced', verbose=False, max_iter=-1, decision_function_shape='ovr')\n",
    "clf.fit(X_train,y_train)\n",
    "print('Train accuracy = {0}%'.format(np.round(clf.score(X_train, y_train) * 100, 2)))\n",
    "print('Test accuracy = {0}%'.format(np.round(clf.score(X_test, y_test) * 100, 2)))\n",
    "predictions = clf.predict(X_test)\n",
    "print(\"\\n Confusion Matrix: \\n\")\n",
    "print(confusion_matrix(y_test.values, predictions))\n",
    "print(\"\\n Classification Report: \\n\")\n",
    "print(classification_report(y_test.values, predictions))\n",
    "\n",
    "end = time.time()\n",
    "timeTaken[0] =(end - start)\n",
    "timeTaken[0]"
   ]
  },
  {
   "cell_type": "markdown",
   "metadata": {},
   "source": [
    "## Using Kernel function RBF"
   ]
  },
  {
   "cell_type": "code",
   "execution_count": 286,
   "metadata": {},
   "outputs": [
    {
     "name": "stdout",
     "output_type": "stream",
     "text": [
      "Train accuracy = 97.99%\n",
      "Test accuracy = 98.25%\n",
      "\n",
      " Confusion Matrix: \n",
      "\n",
      "[[101   2]\n",
      " [  1  67]]\n",
      "\n",
      " Classification Report: \n",
      "\n",
      "             precision    recall  f1-score   support\n",
      "\n",
      "          0       0.99      0.98      0.99       103\n",
      "          1       0.97      0.99      0.98        68\n",
      "\n",
      "avg / total       0.98      0.98      0.98       171\n",
      "\n"
     ]
    }
   ],
   "source": [
    "from sklearn.svm import SVC #support vector classifier\n",
    "clf = SVC(kernel='rbf', random_state=111,class_weight='balanced', verbose=False, max_iter=-1, decision_function_shape='ovr').fit(X_train, y_train)\n",
    "y_pred = clf.predict(X_test)\n",
    "from sklearn.metrics import confusion_matrix\n",
    "cm = confusion_matrix(y_test, y_pred)\n",
    "\n",
    "print('Train accuracy = {0}%'.format(np.round(clf.score(X_train, y_train) * 100, 2)))\n",
    "print('Test accuracy = {0}%'.format(np.round(clf.score(X_test, y_test) * 100, 2)))\n",
    "predictions = clf.predict(X_test)\n",
    "print(\"\\n Confusion Matrix: \\n\")\n",
    "print(confusion_matrix(y_test.values, predictions))\n",
    "print(\"\\n Classification Report: \\n\")\n",
    "print(classification_report(y_test.values, predictions))"
   ]
  },
  {
   "cell_type": "code",
   "execution_count": 287,
   "metadata": {},
   "outputs": [
    {
     "data": {
      "text/plain": [
       "0.9824561403508771"
      ]
     },
     "execution_count": 287,
     "metadata": {},
     "output_type": "execute_result"
    }
   ],
   "source": [
    "from sklearn.metrics import accuracy_score\n",
    "\n",
    "accuracy_score(y_test, y_pred)\n"
   ]
  },
  {
   "cell_type": "code",
   "execution_count": 289,
   "metadata": {},
   "outputs": [],
   "source": [
    "accuracy_test=[None]*100\n",
    "accuracy_train=[None]*100\n",
    "c = [None]*100\n",
    "count=0\n",
    "c[0] = 1\n",
    "for i in range(100):\n",
    "    clf = svm.SVC(C= c[i], random_state=111, kernel='rbf',class_weight='balanced', verbose=False, max_iter=-1, decision_function_shape='ovr').fit(X_train, y_train)\n",
    "    accuracy_train[i] = np.round(clf.score(X_train, y_train) * 100, 2)\n",
    "    accuracy_test[i] = np.round(clf.score(X_test, y_test) * 100, 2)\n",
    "    if i < 99:\n",
    "        c[i+1] = c[i] + 0.2"
   ]
  },
  {
   "cell_type": "code",
   "execution_count": 290,
   "metadata": {},
   "outputs": [
    {
     "data": {
      "text/plain": [
       "[<matplotlib.lines.Line2D at 0x1f8db490c88>]"
      ]
     },
     "execution_count": 290,
     "metadata": {},
     "output_type": "execute_result"
    },
    {
     "data": {
      "text/plain": [
       "[<matplotlib.lines.Line2D at 0x1f8dc88e4e0>]"
      ]
     },
     "execution_count": 290,
     "metadata": {},
     "output_type": "execute_result"
    },
    {
     "data": {
      "text/plain": [
       "<matplotlib.text.Text at 0x1f8dc85dac8>"
      ]
     },
     "execution_count": 290,
     "metadata": {},
     "output_type": "execute_result"
    },
    {
     "data": {
      "text/plain": [
       "<matplotlib.text.Text at 0x1f8db0fe978>"
      ]
     },
     "execution_count": 290,
     "metadata": {},
     "output_type": "execute_result"
    },
    {
     "data": {
      "text/plain": [
       "<matplotlib.text.Text at 0x1f8dc7639b0>"
      ]
     },
     "execution_count": 290,
     "metadata": {},
     "output_type": "execute_result"
    },
    {
     "data": {
      "text/plain": [
       "<matplotlib.legend.Legend at 0x1f8dc8996a0>"
      ]
     },
     "execution_count": 290,
     "metadata": {},
     "output_type": "execute_result"
    },
    {
     "data": {
      "image/png": "[encoded data removed]",
      "text/plain": [
       "<matplotlib.figure.Figure at 0x1f8db490eb8>"
      ]
     },
     "metadata": {},
     "output_type": "display_data"
    }
   ],
   "source": [
    "ax1 = plt.subplot2grid((6,1),(0,0),rowspan=5,colspan=1)\n",
    "ax1.plot(c,accuracy_test)\n",
    "ax1.plot(c,accuracy_train)\n",
    "\n",
    "\n",
    "plt.title(\"SVM | Accuracy vs C-value\")\n",
    "plt.xlabel(\"C-value\")\n",
    "plt.ylabel(\"Accuracy\")\n",
    "\n",
    "plt.legend(['Test Set','Train Set'])"
   ]
  },
  {
   "cell_type": "markdown",
   "metadata": {},
   "source": [
    "### c = 2.3 is the optimum penalty parameter"
   ]
  },
  {
   "cell_type": "code",
   "execution_count": 291,
   "metadata": {},
   "outputs": [
    {
     "data": {
      "text/plain": [
       "SVC(C=2.3, cache_size=200, class_weight='balanced', coef0=0.0,\n",
       "  decision_function_shape='ovr', degree=3, gamma='auto', kernel='rbf',\n",
       "  max_iter=-1, probability=False, random_state=111, shrinking=True,\n",
       "  tol=0.001, verbose=False)"
      ]
     },
     "execution_count": 291,
     "metadata": {},
     "output_type": "execute_result"
    },
    {
     "name": "stdout",
     "output_type": "stream",
     "text": [
      "Train accuracy = 98.74%\n",
      "Test accuracy = 98.25%\n",
      "\n",
      " Confusion Matrix: \n",
      "\n",
      "[[101   2]\n",
      " [  1  67]]\n",
      "\n",
      " Classification Report: \n",
      "\n",
      "             precision    recall  f1-score   support\n",
      "\n",
      "          0       0.99      0.98      0.99       103\n",
      "          1       0.97      0.99      0.98        68\n",
      "\n",
      "avg / total       0.98      0.98      0.98       171\n",
      "\n"
     ]
    },
    {
     "data": {
      "text/plain": [
       "0.031206369400024414"
      ]
     },
     "execution_count": 291,
     "metadata": {},
     "output_type": "execute_result"
    }
   ],
   "source": [
    "start = time.time()\n",
    "\n",
    "clf = svm.SVC(C=2.3, random_state=111,kernel='rbf', class_weight='balanced', verbose=False, max_iter=-1, decision_function_shape='ovr')\n",
    "clf.fit(X_train,y_train)\n",
    "print('Train accuracy = {0}%'.format(np.round(clf.score(X_train, y_train) * 100, 2)))\n",
    "print('Test accuracy = {0}%'.format(np.round(clf.score(X_test, y_test) * 100, 2)))\n",
    "predictions = clf.predict(X_test)\n",
    "print(\"\\n Confusion Matrix: \\n\")\n",
    "print(confusion_matrix(y_test.values, predictions))\n",
    "print(\"\\n Classification Report: \\n\")\n",
    "print(classification_report(y_test.values, predictions))\n",
    "\n",
    "end = time.time()\n",
    "timeTaken[0] =(end - start)\n",
    "timeTaken[0]"
   ]
  },
  {
   "cell_type": "code",
   "execution_count": 292,
   "metadata": {},
   "outputs": [
    {
     "name": "stdout",
     "output_type": "stream",
     "text": [
      "Train accuracy = 93.22%\n",
      "Test accuracy = 92.98%\n",
      "\n",
      " Confusion Matrix: \n",
      "\n",
      "[[103   0]\n",
      " [ 12  56]]\n",
      "\n",
      " Classification Report: \n",
      "\n",
      "             precision    recall  f1-score   support\n",
      "\n",
      "          0       0.90      1.00      0.94       103\n",
      "          1       1.00      0.82      0.90        68\n",
      "\n",
      "avg / total       0.94      0.93      0.93       171\n",
      "\n"
     ]
    }
   ],
   "source": [
    "from sklearn.svm import SVC #support vector classifier\n",
    "clf = SVC(kernel='poly', random_state=111,class_weight = 'balanced').fit(X_train, y_train)\n",
    "y_pred = clf.predict(X_test)\n",
    "from sklearn.metrics import confusion_matrix\n",
    "cm = confusion_matrix(y_test, y_pred)\n",
    "\n",
    "print('Train accuracy = {0}%'.format(np.round(clf.score(X_train, y_train) * 100, 2)))\n",
    "print('Test accuracy = {0}%'.format(np.round(clf.score(X_test, y_test) * 100, 2)))\n",
    "predictions = clf.predict(X_test)\n",
    "print(\"\\n Confusion Matrix: \\n\")\n",
    "print(confusion_matrix(y_test.values, predictions))\n",
    "print(\"\\n Classification Report: \\n\")\n",
    "print(classification_report(y_test.values, predictions))\n"
   ]
  },
  {
   "cell_type": "code",
   "execution_count": 304,
   "metadata": {
    "collapsed": true
   },
   "outputs": [],
   "source": [
    "accuracy_test=[None]*100\n",
    "accuracy_train=[None]*100\n",
    "c = [None]*100\n",
    "count=0\n",
    "c[0] = 1\n",
    "for i in range(100):\n",
    "    clf = svm.SVC(C= c[i], random_state=111, kernel='poly',degree = 3,class_weight='balanced', verbose=False, max_iter=-1, decision_function_shape='ovr').fit(X_train, y_train)\n",
    "    accuracy_train[i] = np.round(clf.score(X_train, y_train) * 100, 2)\n",
    "    accuracy_test[i] = np.round(clf.score(X_test, y_test) * 100, 2)\n",
    "    if i < 99:\n",
    "        c[i+1] = c[i] + 0.2"
   ]
  },
  {
   "cell_type": "code",
   "execution_count": 305,
   "metadata": {},
   "outputs": [
    {
     "data": {
      "text/plain": [
       "[<matplotlib.lines.Line2D at 0x1f8dcb47a20>]"
      ]
     },
     "execution_count": 305,
     "metadata": {},
     "output_type": "execute_result"
    },
    {
     "data": {
      "text/plain": [
       "[<matplotlib.lines.Line2D at 0x1f8dccc4c18>]"
      ]
     },
     "execution_count": 305,
     "metadata": {},
     "output_type": "execute_result"
    },
    {
     "data": {
      "text/plain": [
       "<matplotlib.text.Text at 0x1f8dcc98240>"
      ]
     },
     "execution_count": 305,
     "metadata": {},
     "output_type": "execute_result"
    },
    {
     "data": {
      "text/plain": [
       "<matplotlib.text.Text at 0x1f8dcc4ea58>"
      ]
     },
     "execution_count": 305,
     "metadata": {},
     "output_type": "execute_result"
    },
    {
     "data": {
      "text/plain": [
       "<matplotlib.text.Text at 0x1f8dcb84d30>"
      ]
     },
     "execution_count": 305,
     "metadata": {},
     "output_type": "execute_result"
    },
    {
     "data": {
      "text/plain": [
       "<matplotlib.legend.Legend at 0x1f8dcccee80>"
      ]
     },
     "execution_count": 305,
     "metadata": {},
     "output_type": "execute_result"
    },
    {
     "data": {
      "image/png": "[encoded data removed]",
      "text/plain": [
       "<matplotlib.figure.Figure at 0x1f8dcbaf6a0>"
      ]
     },
     "metadata": {},
     "output_type": "display_data"
    }
   ],
   "source": [
    "ax1 = plt.subplot2grid((6,1),(0,0),rowspan=5,colspan=1)\n",
    "ax1.plot(c,accuracy_test)\n",
    "ax1.plot(c,accuracy_train)\n",
    "\n",
    "\n",
    "plt.title(\"SVM | Accuracy vs C-value\")\n",
    "plt.xlabel(\"C-value\")\n",
    "plt.ylabel(\"Accuracy\")\n",
    "\n",
    "plt.legend(['Test Set','Train Set'])"
   ]
  },
  {
   "cell_type": "code",
   "execution_count": 312,
   "metadata": {},
   "outputs": [
    {
     "data": {
      "text/plain": [
       "SVC(C=11, cache_size=200, class_weight='balanced', coef0=0.0,\n",
       "  decision_function_shape='ovr', degree=3, gamma='auto', kernel='poly',\n",
       "  max_iter=-1, probability=False, random_state=111, shrinking=True,\n",
       "  tol=0.001, verbose=False)"
      ]
     },
     "execution_count": 312,
     "metadata": {},
     "output_type": "execute_result"
    },
    {
     "name": "stdout",
     "output_type": "stream",
     "text": [
      "Train accuracy = 98.24%\n",
      "Test accuracy = 97.66%\n",
      "\n",
      " Confusion Matrix: \n",
      "\n",
      "[[102   1]\n",
      " [  3  65]]\n",
      "\n",
      " Classification Report: \n",
      "\n",
      "             precision    recall  f1-score   support\n",
      "\n",
      "          0       0.97      0.99      0.98       103\n",
      "          1       0.98      0.96      0.97        68\n",
      "\n",
      "avg / total       0.98      0.98      0.98       171\n",
      "\n"
     ]
    },
    {
     "data": {
      "text/plain": [
       "0.03597688674926758"
      ]
     },
     "execution_count": 312,
     "metadata": {},
     "output_type": "execute_result"
    }
   ],
   "source": [
    "start = time.time()\n",
    "\n",
    "clf = svm.SVC(C=11, random_state=111,kernel='poly', class_weight='balanced',degree =3, verbose=False, max_iter=-1, decision_function_shape='ovr')\n",
    "clf.fit(X_train,y_train)\n",
    "print('Train accuracy = {0}%'.format(np.round(clf.score(X_train, y_train) * 100, 2)))\n",
    "print('Test accuracy = {0}%'.format(np.round(clf.score(X_test, y_test) * 100, 2)))\n",
    "predictions = clf.predict(X_test)\n",
    "print(\"\\n Confusion Matrix: \\n\")\n",
    "print(confusion_matrix(y_test.values, predictions))\n",
    "print(\"\\n Classification Report: \\n\")\n",
    "print(classification_report(y_test.values, predictions))\n",
    "\n",
    "end = time.time()\n",
    "timeTaken[0] =(end - start)\n",
    "timeTaken[0]"
   ]
  },
  {
   "cell_type": "markdown",
   "metadata": {},
   "source": [
    "# Student Math Grade prediction using SVM"
   ]
  },
  {
   "cell_type": "code",
   "execution_count": 313,
   "metadata": {
    "collapsed": true
   },
   "outputs": [],
   "source": [
    "import os\n",
    "import numpy as np\n",
    "import pandas as pd\n",
    "import matplotlib.pyplot as plt\n",
    "from sklearn.model_selection import train_test_split\n",
    "from sklearn.metrics import mean_squared_error\n",
    "from sklearn.metrics import mean_absolute_error\n",
    "import scipy.optimize as opt \n",
    "import random \n",
    "from sklearn.metrics import confusion_matrix\n",
    "%matplotlib inline"
   ]
  },
  {
   "cell_type": "code",
   "execution_count": 314,
   "metadata": {},
   "outputs": [
    {
     "data": {
      "text/html": [
       "<div>\n",
       "<style>\n",
       "    .dataframe thead tr:only-child th {\n",
       "        text-align: right;\n",
       "    }\n",
       "\n",
       "    .dataframe thead th {\n",
       "        text-align: left;\n",
       "    }\n",
       "\n",
       "    .dataframe tbody tr th {\n",
       "        vertical-align: top;\n",
       "    }\n",
       "</style>\n",
       "<table border=\"1\" class=\"dataframe\">\n",
       "  <thead>\n",
       "    <tr style=\"text-align: right;\">\n",
       "      <th></th>\n",
       "      <th>school</th>\n",
       "      <th>sex</th>\n",
       "      <th>age</th>\n",
       "      <th>address</th>\n",
       "      <th>famsize</th>\n",
       "      <th>Pstatus</th>\n",
       "      <th>Medu</th>\n",
       "      <th>Fedu</th>\n",
       "      <th>Mjob</th>\n",
       "      <th>Fjob</th>\n",
       "      <th>...</th>\n",
       "      <th>famrel</th>\n",
       "      <th>freetime</th>\n",
       "      <th>goout</th>\n",
       "      <th>Dalc</th>\n",
       "      <th>Walc</th>\n",
       "      <th>health</th>\n",
       "      <th>absences</th>\n",
       "      <th>G1</th>\n",
       "      <th>G2</th>\n",
       "      <th>G3</th>\n",
       "    </tr>\n",
       "  </thead>\n",
       "  <tbody>\n",
       "    <tr>\n",
       "      <th>0</th>\n",
       "      <td>GP</td>\n",
       "      <td>F</td>\n",
       "      <td>18</td>\n",
       "      <td>U</td>\n",
       "      <td>GT3</td>\n",
       "      <td>A</td>\n",
       "      <td>4</td>\n",
       "      <td>4</td>\n",
       "      <td>at_home</td>\n",
       "      <td>teacher</td>\n",
       "      <td>...</td>\n",
       "      <td>4</td>\n",
       "      <td>3</td>\n",
       "      <td>4</td>\n",
       "      <td>1</td>\n",
       "      <td>1</td>\n",
       "      <td>3</td>\n",
       "      <td>6</td>\n",
       "      <td>5</td>\n",
       "      <td>6</td>\n",
       "      <td>0</td>\n",
       "    </tr>\n",
       "    <tr>\n",
       "      <th>1</th>\n",
       "      <td>GP</td>\n",
       "      <td>F</td>\n",
       "      <td>17</td>\n",
       "      <td>U</td>\n",
       "      <td>GT3</td>\n",
       "      <td>T</td>\n",
       "      <td>1</td>\n",
       "      <td>1</td>\n",
       "      <td>at_home</td>\n",
       "      <td>other</td>\n",
       "      <td>...</td>\n",
       "      <td>5</td>\n",
       "      <td>3</td>\n",
       "      <td>3</td>\n",
       "      <td>1</td>\n",
       "      <td>1</td>\n",
       "      <td>3</td>\n",
       "      <td>4</td>\n",
       "      <td>5</td>\n",
       "      <td>5</td>\n",
       "      <td>0</td>\n",
       "    </tr>\n",
       "    <tr>\n",
       "      <th>2</th>\n",
       "      <td>GP</td>\n",
       "      <td>F</td>\n",
       "      <td>15</td>\n",
       "      <td>U</td>\n",
       "      <td>LE3</td>\n",
       "      <td>T</td>\n",
       "      <td>1</td>\n",
       "      <td>1</td>\n",
       "      <td>at_home</td>\n",
       "      <td>other</td>\n",
       "      <td>...</td>\n",
       "      <td>4</td>\n",
       "      <td>3</td>\n",
       "      <td>2</td>\n",
       "      <td>2</td>\n",
       "      <td>3</td>\n",
       "      <td>3</td>\n",
       "      <td>10</td>\n",
       "      <td>7</td>\n",
       "      <td>8</td>\n",
       "      <td>0</td>\n",
       "    </tr>\n",
       "    <tr>\n",
       "      <th>3</th>\n",
       "      <td>GP</td>\n",
       "      <td>F</td>\n",
       "      <td>15</td>\n",
       "      <td>U</td>\n",
       "      <td>GT3</td>\n",
       "      <td>T</td>\n",
       "      <td>4</td>\n",
       "      <td>2</td>\n",
       "      <td>health</td>\n",
       "      <td>services</td>\n",
       "      <td>...</td>\n",
       "      <td>3</td>\n",
       "      <td>2</td>\n",
       "      <td>2</td>\n",
       "      <td>1</td>\n",
       "      <td>1</td>\n",
       "      <td>5</td>\n",
       "      <td>2</td>\n",
       "      <td>15</td>\n",
       "      <td>14</td>\n",
       "      <td>1</td>\n",
       "    </tr>\n",
       "    <tr>\n",
       "      <th>4</th>\n",
       "      <td>GP</td>\n",
       "      <td>F</td>\n",
       "      <td>16</td>\n",
       "      <td>U</td>\n",
       "      <td>GT3</td>\n",
       "      <td>T</td>\n",
       "      <td>3</td>\n",
       "      <td>3</td>\n",
       "      <td>other</td>\n",
       "      <td>other</td>\n",
       "      <td>...</td>\n",
       "      <td>4</td>\n",
       "      <td>3</td>\n",
       "      <td>2</td>\n",
       "      <td>1</td>\n",
       "      <td>2</td>\n",
       "      <td>5</td>\n",
       "      <td>4</td>\n",
       "      <td>6</td>\n",
       "      <td>10</td>\n",
       "      <td>0</td>\n",
       "    </tr>\n",
       "  </tbody>\n",
       "</table>\n",
       "<p>5 rows × 33 columns</p>\n",
       "</div>"
      ],
      "text/plain": [
       "  school sex  age address famsize Pstatus  Medu  Fedu     Mjob      Fjob ...  \\\n",
       "0     GP   F   18       U     GT3       A     4     4  at_home   teacher ...   \n",
       "1     GP   F   17       U     GT3       T     1     1  at_home     other ...   \n",
       "2     GP   F   15       U     LE3       T     1     1  at_home     other ...   \n",
       "3     GP   F   15       U     GT3       T     4     2   health  services ...   \n",
       "4     GP   F   16       U     GT3       T     3     3    other     other ...   \n",
       "\n",
       "  famrel freetime  goout  Dalc  Walc health absences  G1  G2 G3  \n",
       "0      4        3      4     1     1      3        6   5   6  0  \n",
       "1      5        3      3     1     1      3        4   5   5  0  \n",
       "2      4        3      2     2     3      3       10   7   8  0  \n",
       "3      3        2      2     1     1      5        2  15  14  1  \n",
       "4      4        3      2     1     2      5        4   6  10  0  \n",
       "\n",
       "[5 rows x 33 columns]"
      ]
     },
     "execution_count": 314,
     "metadata": {},
     "output_type": "execute_result"
    }
   ],
   "source": [
    "\n",
    "data = pd.read_csv(\"student-mat.csv\",sep = \";\")\n",
    "median = data['G3'].median()\n",
    "data['G3'] = np.where(data['G3']>=median, 1, 0)\n",
    "data.head()"
   ]
  },
  {
   "cell_type": "markdown",
   "metadata": {},
   "source": [
    "## Make Dummy variables"
   ]
  },
  {
   "cell_type": "code",
   "execution_count": 316,
   "metadata": {},
   "outputs": [
    {
     "data": {
      "text/plain": [
       "(     age  Medu  Fedu  traveltime  studytime  failures  famrel  freetime  \\\n",
       " 84    15     1     1           1          2         0       4         3   \n",
       " 64    15     4     3           1          2         0       4         4   \n",
       " 16    16     4     4           1          3         0       3         2   \n",
       " 77    16     2     2           1          4         0       5         2   \n",
       " 190   16     2     3           1          2         0       4         3   \n",
       " 10    15     4     4           1          2         0       3         3   \n",
       " 34    16     3     2           1          1         0       5         4   \n",
       " 13    15     4     3           2          2         0       5         4   \n",
       " 176   16     2     2           2          2         0       3         4   \n",
       " 28    16     3     4           1          2         0       5         3   \n",
       " 270   19     3     3           1          2         2       4         3   \n",
       " 394   19     1     1           1          1         0       3         2   \n",
       " 314   19     1     1           1          3         2       4         1   \n",
       " 361   18     1     1           2          2         1       4         4   \n",
       " 288   18     2     1           1          3         0       4         2   \n",
       " 119   15     3     4           1          1         0       3         4   \n",
       " 134   15     3     4           4          2         0       5         3   \n",
       " 147   15     1     2           1          2         0       4         3   \n",
       " 345   18     3     2           1          3         0       5         4   \n",
       " 72    15     1     1           1          2         2       3         3   \n",
       " 132   17     2     2           1          1         0       3         4   \n",
       " 320   17     4     3           1          2         0       5         2   \n",
       " 168   16     2     2           1          2         0       5         1   \n",
       " 326   17     3     3           1          1         0       4         3   \n",
       " 5     16     4     3           1          2         0       5         4   \n",
       " 363   17     4     4           1          2         0       2         3   \n",
       " 370   19     3     2           2          2         2       3         2   \n",
       " 225   18     3     1           1          2         1       5         3   \n",
       " 151   16     2     1           1          1         1       4         4   \n",
       " 127   19     0     1           1          2         3       3         4   \n",
       " ..   ...   ...   ...         ...        ...       ...     ...       ...   \n",
       " 214   17     4     4           1          1         0       5         2   \n",
       " 15    16     4     4           1          1         0       4         4   \n",
       " 171   16     1     0           2          2         0       4         3   \n",
       " 65    16     4     3           3          2         0       5         4   \n",
       " 36    15     4     3           1          3         0       5         4   \n",
       " 388   18     3     1           1          2         0       4         3   \n",
       " 187   16     2     1           1          2         0       4         2   \n",
       " 57    15     4     4           1          2         0       3         2   \n",
       " 346   18     4     3           1          3         0       5         3   \n",
       " 79    16     3     4           1          2         0       2         4   \n",
       " 297   18     4     3           2          2         0       4         4   \n",
       " 48    15     4     2           1          2         0       4         3   \n",
       " 21    15     4     4           1          1         0       5         4   \n",
       " 383   19     1     1           2          1         1       4         3   \n",
       " 192   17     1     2           2          2         0       4         4   \n",
       " 197   16     3     3           3          1         0       3         3   \n",
       " 194   16     2     3           2          1         0       5         3   \n",
       " 49    15     4     4           1          2         1       4         4   \n",
       " 12    15     4     4           1          1         0       4         3   \n",
       " 379   17     3     1           1          2         0       4         5   \n",
       " 6     16     2     2           1          2         0       4         4   \n",
       " 153   19     3     2           1          1         3       4         5   \n",
       " 90    16     3     3           1          3         0       4         3   \n",
       " 39    15     2     2           1          1         0       4         3   \n",
       " 347   18     4     3           1          3         0       5         4   \n",
       " 237   16     2     1           1          1         0       4         5   \n",
       " 31    15     4     4           2          2         0       4         3   \n",
       " 40    16     2     2           2          2         1       3         3   \n",
       " 230   17     4     3           1          2         0       3         2   \n",
       " 83    15     2     2           2          2         0       5         3   \n",
       " \n",
       "      goout  Dalc      ...       guardian_mother  guardian_other  \\\n",
       " 84       2     2      ...                     0               0   \n",
       " 64       4     2      ...                     0               0   \n",
       " 16       3     1      ...                     1               0   \n",
       " 77       3     1      ...                     1               0   \n",
       " 190      3     1      ...                     1               0   \n",
       " 10       3     1      ...                     1               0   \n",
       " 34       3     1      ...                     1               0   \n",
       " 13       3     1      ...                     1               0   \n",
       " 176      4     1      ...                     1               0   \n",
       " 28       3     1      ...                     1               0   \n",
       " 270      5     3      ...                     0               1   \n",
       " 394      3     3      ...                     0               0   \n",
       " 314      2     1      ...                     0               1   \n",
       " 361      3     2      ...                     1               0   \n",
       " 288      4     1      ...                     1               0   \n",
       " 119      3     1      ...                     0               0   \n",
       " 134      3     1      ...                     1               0   \n",
       " 147      2     1      ...                     1               0   \n",
       " 345      3     2      ...                     1               0   \n",
       " 72       4     2      ...                     1               0   \n",
       " 132      4     1      ...                     0               0   \n",
       " 320      2     1      ...                     1               0   \n",
       " 168      5     1      ...                     1               0   \n",
       " 326      5     3      ...                     1               0   \n",
       " 5        2     1      ...                     1               0   \n",
       " 363      4     1      ...                     1               0   \n",
       " 370      2     1      ...                     0               1   \n",
       " 225      3     1      ...                     1               0   \n",
       " 151      4     3      ...                     1               0   \n",
       " 127      2     1      ...                     0               1   \n",
       " ..     ...   ...      ...                   ...             ...   \n",
       " 214      1     1      ...                     1               0   \n",
       " 15       4     1      ...                     1               0   \n",
       " 171      2     1      ...                     1               0   \n",
       " 65       3     1      ...                     1               0   \n",
       " 36       3     1      ...                     1               0   \n",
       " 388      4     1      ...                     1               0   \n",
       " 187      3     1      ...                     1               0   \n",
       " 57       2     1      ...                     1               0   \n",
       " 346      2     1      ...                     1               0   \n",
       " 79       3     1      ...                     1               0   \n",
       " 297      5     1      ...                     0               1   \n",
       " 48       3     2      ...                     1               0   \n",
       " 21       2     1      ...                     0               0   \n",
       " 383      2     1      ...                     1               0   \n",
       " 192      4     4      ...                     0               1   \n",
       " 197      4     3      ...                     0               0   \n",
       " 194      3     1      ...                     0               0   \n",
       " 49       4     1      ...                     0               0   \n",
       " 12       3     1      ...                     0               0   \n",
       " 379      4     2      ...                     1               0   \n",
       " 6        4     1      ...                     1               0   \n",
       " 153      4     1      ...                     1               0   \n",
       " 90       3     1      ...                     1               0   \n",
       " 39       1     1      ...                     1               0   \n",
       " 347      5     2      ...                     1               0   \n",
       " 237      2     1      ...                     1               0   \n",
       " 31       1     1      ...                     1               0   \n",
       " 40       3     1      ...                     1               0   \n",
       " 230      3     1      ...                     0               0   \n",
       " 83       3     1      ...                     1               0   \n",
       " \n",
       "      schoolsup_yes  famsup_yes  paid_yes  activities_yes  nursery_yes  \\\n",
       " 84               0           1         0               1            0   \n",
       " 64               1           0         0               1            1   \n",
       " 16               0           1         1               1            1   \n",
       " 77               0           0         1               0            1   \n",
       " 190              0           0         0               0            1   \n",
       " 10               0           1         1               0            1   \n",
       " 34               0           1         1               0            0   \n",
       " 13               0           1         1               0            1   \n",
       " 176              0           0         1               1            0   \n",
       " 28               1           1         0               1            1   \n",
       " 270              0           1         1               1            1   \n",
       " 394              0           0         0               0            1   \n",
       " 314              0           0         0               0            0   \n",
       " 361              0           0         0               1            0   \n",
       " 288              0           0         1               1            1   \n",
       " 119              0           0         0               0            1   \n",
       " 134              0           1         0               0            1   \n",
       " 147              0           1         1               0            0   \n",
       " 345              0           0         0               0            1   \n",
       " 72               1           1         0               0            0   \n",
       " 132              0           1         0               0            1   \n",
       " 320              0           1         1               0            1   \n",
       " 168              0           1         1               0            0   \n",
       " 326              0           0         0               1            0   \n",
       " 5                0           1         1               1            1   \n",
       " 363              0           1         1               1            1   \n",
       " 370              0           0         0               1            1   \n",
       " 225              0           0         0               1            1   \n",
       " 151              0           0         0               1            1   \n",
       " 127              0           1         0               0            0   \n",
       " ..             ...         ...       ...             ...          ...   \n",
       " 214              0           1         1               0            1   \n",
       " 15               0           1         0               0            1   \n",
       " 171              0           1         1               1            1   \n",
       " 65               0           1         0               1            1   \n",
       " 36               0           1         0               1            1   \n",
       " 388              0           1         1               0            1   \n",
       " 187              0           0         1               1            1   \n",
       " 57               0           1         0               1            1   \n",
       " 346              0           0         0               0            1   \n",
       " 79               0           1         0               0            1   \n",
       " 297              0           1         1               0            1   \n",
       " 48               0           1         1               0            1   \n",
       " 21               0           1         1               0            1   \n",
       " 383              0           0         0               0            1   \n",
       " 192              0           0         1               1            0   \n",
       " 197              0           1         1               1            1   \n",
       " 194              0           0         0               0            1   \n",
       " 49               1           1         0               1            0   \n",
       " 12               0           1         1               1            1   \n",
       " 379              0           1         1               1            0   \n",
       " 6                0           0         0               0            1   \n",
       " 153              0           1         0               0            1   \n",
       " 90               0           1         1               0            1   \n",
       " 39               1           1         1               1            1   \n",
       " 347              0           1         1               0            1   \n",
       " 237              0           0         0               0            1   \n",
       " 31               0           1         0               1            1   \n",
       " 40               0           1         0               1            0   \n",
       " 230              0           0         0               1            1   \n",
       " 83               0           0         1               1            1   \n",
       " \n",
       "      higher_yes  internet_yes  romantic_yes  \n",
       " 84            1             1             0  \n",
       " 64            1             1             1  \n",
       " 16            1             1             0  \n",
       " 77            1             1             1  \n",
       " 190           1             1             0  \n",
       " 10            1             1             0  \n",
       " 34            1             1             0  \n",
       " 13            1             1             0  \n",
       " 176           1             1             0  \n",
       " 28            1             1             0  \n",
       " 270           1             1             0  \n",
       " 394           1             1             0  \n",
       " 314           1             1             1  \n",
       " 361           0             0             0  \n",
       " 288           1             1             0  \n",
       " 119           1             1             0  \n",
       " 134           1             0             1  \n",
       " 147           1             1             0  \n",
       " 345           1             1             1  \n",
       " 72            1             1             1  \n",
       " 132           1             1             1  \n",
       " 320           1             1             1  \n",
       " 168           1             1             0  \n",
       " 326           1             1             0  \n",
       " 5             1             1             0  \n",
       " 363           1             1             1  \n",
       " 370           1             0             1  \n",
       " 225           1             1             1  \n",
       " 151           1             0             1  \n",
       " 127           0             0             0  \n",
       " ..          ...           ...           ...  \n",
       " 214           1             0             0  \n",
       " 15            1             1             0  \n",
       " 171           1             1             1  \n",
       " 65            1             1             0  \n",
       " 36            1             1             0  \n",
       " 388           1             1             0  \n",
       " 187           1             1             1  \n",
       " 57            1             0             0  \n",
       " 346           1             1             1  \n",
       " 79            1             1             0  \n",
       " 297           1             1             1  \n",
       " 48            1             0             0  \n",
       " 21            1             1             0  \n",
       " 383           1             0             0  \n",
       " 192           1             1             0  \n",
       " 197           1             1             0  \n",
       " 194           1             1             0  \n",
       " 49            1             1             0  \n",
       " 12            1             1             0  \n",
       " 379           1             1             0  \n",
       " 6             1             1             0  \n",
       " 153           0             1             1  \n",
       " 90            1             1             1  \n",
       " 39            1             0             0  \n",
       " 347           1             1             1  \n",
       " 237           1             1             1  \n",
       " 31            1             1             0  \n",
       " 40            1             1             1  \n",
       " 230           1             1             1  \n",
       " 83            1             1             0  \n",
       " \n",
       " [276 rows x 39 columns], 84     0\n",
       " 64     0\n",
       " 16     1\n",
       " 77     1\n",
       " 190    1\n",
       " 10     0\n",
       " 34     1\n",
       " 13     1\n",
       " 176    1\n",
       " 28     1\n",
       " 270    0\n",
       " 394    0\n",
       " 314    1\n",
       " 361    1\n",
       " 288    1\n",
       " 119    1\n",
       " 134    0\n",
       " 147    1\n",
       " 345    1\n",
       " 72     0\n",
       " 132    1\n",
       " 320    1\n",
       " 168    0\n",
       " 326    1\n",
       " 5      1\n",
       " 363    1\n",
       " 370    0\n",
       " 225    0\n",
       " 151    1\n",
       " 127    0\n",
       "       ..\n",
       " 214    0\n",
       " 15     1\n",
       " 171    1\n",
       " 65     1\n",
       " 36     1\n",
       " 388    0\n",
       " 187    1\n",
       " 57     1\n",
       " 346    1\n",
       " 79     0\n",
       " 297    0\n",
       " 48     1\n",
       " 21     1\n",
       " 383    0\n",
       " 192    0\n",
       " 197    0\n",
       " 194    1\n",
       " 49     0\n",
       " 12     1\n",
       " 379    0\n",
       " 6      1\n",
       " 153    0\n",
       " 90     0\n",
       " 39     1\n",
       " 347    0\n",
       " 237    1\n",
       " 31     1\n",
       " 40     1\n",
       " 230    1\n",
       " 83     1\n",
       " Name: G3, Length: 276, dtype: int32,      age  Medu  Fedu  traveltime  studytime  failures  famrel  freetime  \\\n",
       " 139   15     4     4           2          1         0       4         3   \n",
       " 212   16     2     2           1          2         0       3         3   \n",
       " 306   20     3     2           1          1         0       5         5   \n",
       " 275   17     2     2           2          2         0       4         4   \n",
       " 355   18     3     3           1          2         0       5         3   \n",
       " 259   17     2     2           1          4         0       3         4   \n",
       " 273   17     1     2           1          2         0       3         5   \n",
       " 158   16     2     2           3          1         0       4         2   \n",
       " 360   18     1     4           3          2         0       4         3   \n",
       " 358   18     1     1           2          1         0       3         3   \n",
       " 101   16     4     4           1          3         0       4         4   \n",
       " 185   17     3     3           1          2         0       4         3   \n",
       " 175   17     4     3           2          2         0       4         4   \n",
       " 292   18     2     1           1          2         1       5         4   \n",
       " 82    15     3     2           1          2         0       4         4   \n",
       " 59    16     4     2           1          2         0       4         2   \n",
       " 243   16     4     4           1          1         0       5         3   \n",
       " 140   15     4     3           2          4         0       2         2   \n",
       " 338   18     3     3           1          4         0       5         3   \n",
       " 286   18     2     2           1          3         0       4         3   \n",
       " 310   19     1     2           1          2         1       4         2   \n",
       " 14    15     2     2           1          3         0       4         5   \n",
       " 353   19     1     1           3          1         1       4         4   \n",
       " 88    16     2     2           2          2         1       4         4   \n",
       " 38    15     3     4           1          3         0       4         3   \n",
       " 226   17     3     2           1          2         0       5         3   \n",
       " 195   17     2     4           1          2         0       4         3   \n",
       " 289   18     4     4           1          2         0       5         4   \n",
       " 374   18     4     4           2          3         0       5         4   \n",
       " 63    16     4     3           1          3         0       3         4   \n",
       " ..   ...   ...   ...         ...        ...       ...     ...       ...   \n",
       " 122   16     2     4           2          2         0       4         2   \n",
       " 298   18     4     3           1          4         0       4         3   \n",
       " 58    15     1     2           1          2         0       4         3   \n",
       " 29    16     4     4           1          2         0       4         4   \n",
       " 107   16     3     3           1          3         0       5         3   \n",
       " 287   17     1     1           1          3         0       4         3   \n",
       " 276   18     3     2           2          2         0       4         1   \n",
       " 387   19     2     3           1          3         1       5         4   \n",
       " 44    16     2     2           2          2         1       4         3   \n",
       " 236   17     2     2           1          2         0       4         4   \n",
       " 193   16     3     3           1          1         0       4         3   \n",
       " 188   17     3     3           1          2         0       3         3   \n",
       " 61    16     1     1           4          1         0       5         5   \n",
       " 238   17     2     1           3          2         0       2         1   \n",
       " 75    15     4     3           1          2         0       4         3   \n",
       " 135   15     4     4           1          3         0       4         3   \n",
       " 203   17     2     2           1          1         0       5         3   \n",
       " 156   17     1     2           1          1         0       2         2   \n",
       " 362   18     3     3           2          2         0       4         3   \n",
       " 272   18     1     1           2          2         0       4         4   \n",
       " 392   21     1     1           1          1         3       5         5   \n",
       " 131   15     1     1           3          1         0       4         3   \n",
       " 258   18     2     1           1          2         0       5         2   \n",
       " 222   16     2     3           1          2         0       2         3   \n",
       " 117   16     3     3           2          1         0       5         4   \n",
       " 328   17     4     4           1          3         0       5         4   \n",
       " 148   16     4     4           1          1         0       3         3   \n",
       " 252   18     2     1           1          1         1       3         2   \n",
       " 311   19     2     1           3          2         0       3         4   \n",
       " 19    16     4     3           1          1         0       3         1   \n",
       " \n",
       "      goout  Dalc      ...       guardian_mother  guardian_other  \\\n",
       " 139      2     1      ...                     1               0   \n",
       " 212      4     1      ...                     1               0   \n",
       " 306      3     1      ...                     0               1   \n",
       " 275      4     2      ...                     1               0   \n",
       " 355      4     1      ...                     0               0   \n",
       " 259      1     1      ...                     0               0   \n",
       " 273      2     2      ...                     1               0   \n",
       " 158      2     1      ...                     1               0   \n",
       " 360      4     1      ...                     1               0   \n",
       " 358      2     1      ...                     0               0   \n",
       " 101      3     1      ...                     0               0   \n",
       " 185      4     2      ...                     1               0   \n",
       " 175      4     4      ...                     1               0   \n",
       " 292      3     1      ...                     1               0   \n",
       " 82       4     1      ...                     1               0   \n",
       " 59       3     1      ...                     1               0   \n",
       " 243      2     1      ...                     1               0   \n",
       " 140      2     1      ...                     0               0   \n",
       " 338      3     1      ...                     1               0   \n",
       " 286      3     1      ...                     1               0   \n",
       " 310      4     2      ...                     0               1   \n",
       " 14       2     1      ...                     0               1   \n",
       " 353      4     3      ...                     0               1   \n",
       " 88       2     1      ...                     0               0   \n",
       " 38       2     1      ...                     1               0   \n",
       " 226      4     1      ...                     1               0   \n",
       " 195      2     1      ...                     0               0   \n",
       " 289      3     1      ...                     1               0   \n",
       " 374      4     1      ...                     1               0   \n",
       " 63       4     2      ...                     1               0   \n",
       " ..     ...   ...      ...                   ...             ...   \n",
       " 122      2     1      ...                     0               0   \n",
       " 298      3     1      ...                     0               0   \n",
       " 58       2     1      ...                     0               0   \n",
       " 29       5     5      ...                     1               0   \n",
       " 107      3     1      ...                     0               0   \n",
       " 287      3     1      ...                     1               0   \n",
       " 276      1     1      ...                     1               0   \n",
       " 387      2     1      ...                     1               0   \n",
       " 44       3     2      ...                     0               0   \n",
       " 236      2     5      ...                     0               0   \n",
       " 193      2     3      ...                     1               0   \n",
       " 188      3     1      ...                     1               0   \n",
       " 61       5     5      ...                     0               0   \n",
       " 238      1     1      ...                     1               0   \n",
       " 75       3     2      ...                     1               0   \n",
       " 135      3     1      ...                     1               0   \n",
       " 203      2     1      ...                     1               0   \n",
       " 156      2     3      ...                     1               0   \n",
       " 362      2     1      ...                     1               0   \n",
       " 272      3     1      ...                     1               0   \n",
       " 392      3     3      ...                     0               1   \n",
       " 131      3     1      ...                     1               0   \n",
       " 258      4     1      ...                     1               0   \n",
       " 222      1     1      ...                     1               0   \n",
       " 117      2     1      ...                     0               0   \n",
       " 328      4     1      ...                     1               0   \n",
       " 148      2     2      ...                     1               0   \n",
       " 252      5     2      ...                     1               0   \n",
       " 311      1     1      ...                     0               1   \n",
       " 19       3     1      ...                     0               0   \n",
       " \n",
       "      schoolsup_yes  famsup_yes  paid_yes  activities_yes  nursery_yes  \\\n",
       " 139              0           0         0               1            1   \n",
       " 212              1           1         1               0            1   \n",
       " 306              0           0         0               1            1   \n",
       " 275              1           1         1               0            1   \n",
       " 355              0           1         0               0            1   \n",
       " 259              0           0         1               1            1   \n",
       " 273              0           1         1               1            0   \n",
       " 158              0           0         0               0            0   \n",
       " 360              0           0         0               0            1   \n",
       " 358              0           0         0               0            0   \n",
       " 101              0           1         0               1            1   \n",
       " 185              0           1         0               1            1   \n",
       " 175              0           0         1               1            1   \n",
       " 292              0           0         0               0            1   \n",
       " 82               0           1         1               0            1   \n",
       " 59               0           1         0               0            1   \n",
       " 243              0           0         0               1            1   \n",
       " 140              1           1         0               0            1   \n",
       " 338              0           1         0               0            1   \n",
       " 286              0           1         1               0            1   \n",
       " 310              0           0         0               1            0   \n",
       " 14               0           1         0               0            1   \n",
       " 353              0           1         0               0            1   \n",
       " 88               0           0         1               1            0   \n",
       " 38               1           1         1               1            1   \n",
       " 226              0           0         0               1            0   \n",
       " 195              0           0         0               1            1   \n",
       " 289              0           1         1               1            1   \n",
       " 374              0           0         0               0            1   \n",
       " 63               1           1         1               1            1   \n",
       " ..             ...         ...       ...             ...          ...   \n",
       " 122              0           1         1               1            1   \n",
       " 298              0           1         1               0            1   \n",
       " 58               1           1         0               1            1   \n",
       " 29               0           1         1               1            1   \n",
       " 107              0           1         0               1            1   \n",
       " 287              0           1         1               0            1   \n",
       " 276              0           0         0               0            0   \n",
       " 387              0           0         0               1            0   \n",
       " 44               1           0         0               1            1   \n",
       " 236              0           0         1               1            0   \n",
       " 193              0           1         0               1            1   \n",
       " 188              0           1         0               0            0   \n",
       " 61               1           1         0               1            0   \n",
       " 238              0           0         0               1            1   \n",
       " 75               0           1         1               1            1   \n",
       " 135              0           1         0               1            1   \n",
       " 203              0           1         0               0            1   \n",
       " 156              0           0         0               0            1   \n",
       " 362              0           1         0               0            1   \n",
       " 272              0           1         1               0            0   \n",
       " 392              0           0         0               0            0   \n",
       " 131              0           1         0               1            0   \n",
       " 258              0           0         0               1            1   \n",
       " 222              1           0         0               0            1   \n",
       " 117              0           0         0               1            1   \n",
       " 328              0           1         1               1            1   \n",
       " 148              0           1         0               0            1   \n",
       " 252              0           0         0               0            0   \n",
       " 311              0           1         0               0            1   \n",
       " 19               0           0         1               1            1   \n",
       " \n",
       "      higher_yes  internet_yes  romantic_yes  \n",
       " 139           1             1             0  \n",
       " 212           1             1             0  \n",
       " 306           1             0             0  \n",
       " 275           1             1             1  \n",
       " 355           1             0             1  \n",
       " 259           1             1             1  \n",
       " 273           1             0             1  \n",
       " 158           1             0             0  \n",
       " 360           1             0             1  \n",
       " 358           1             1             1  \n",
       " 101           1             1             1  \n",
       " 185           1             1             1  \n",
       " 175           1             1             0  \n",
       " 292           1             1             1  \n",
       " 82            1             1             0  \n",
       " 59            1             1             0  \n",
       " 243           1             1             0  \n",
       " 140           1             1             0  \n",
       " 338           1             1             0  \n",
       " 286           1             1             0  \n",
       " 310           1             0             1  \n",
       " 14            1             1             1  \n",
       " 353           1             1             0  \n",
       " 88            1             1             0  \n",
       " 38            1             1             0  \n",
       " 226           1             1             0  \n",
       " 195           1             1             1  \n",
       " 289           1             1             0  \n",
       " 374           1             1             0  \n",
       " 63            1             1             0  \n",
       " ..          ...           ...           ...  \n",
       " 122           1             1             1  \n",
       " 298           1             1             0  \n",
       " 58            1             1             0  \n",
       " 29            1             1             1  \n",
       " 107           1             1             0  \n",
       " 287           1             1             0  \n",
       " 276           0             1             1  \n",
       " 387           1             1             0  \n",
       " 44            1             1             0  \n",
       " 236           1             1             1  \n",
       " 193           1             1             0  \n",
       " 188           1             1             1  \n",
       " 61            1             1             1  \n",
       " 238           1             0             0  \n",
       " 75            1             1             0  \n",
       " 135           1             1             1  \n",
       " 203           1             1             0  \n",
       " 156           1             0             0  \n",
       " 362           1             1             1  \n",
       " 272           1             0             0  \n",
       " 392           1             0             0  \n",
       " 131           1             1             1  \n",
       " 258           1             1             0  \n",
       " 222           1             1             0  \n",
       " 117           1             1             0  \n",
       " 328           1             1             0  \n",
       " 148           0             1             1  \n",
       " 252           0             1             0  \n",
       " 311           0             1             1  \n",
       " 19            1             1             0  \n",
       " \n",
       " [119 rows x 39 columns], 139    1\n",
       " 212    1\n",
       " 306    1\n",
       " 275    1\n",
       " 355    0\n",
       " 259    0\n",
       " 273    1\n",
       " 158    1\n",
       " 360    1\n",
       " 358    0\n",
       " 101    1\n",
       " 185    1\n",
       " 175    0\n",
       " 292    1\n",
       " 82     0\n",
       " 59     1\n",
       " 243    1\n",
       " 140    0\n",
       " 338    1\n",
       " 286    1\n",
       " 310    0\n",
       " 14     1\n",
       " 353    0\n",
       " 88     0\n",
       " 38     1\n",
       " 226    1\n",
       " 195    1\n",
       " 289    1\n",
       " 374    1\n",
       " 63     0\n",
       "       ..\n",
       " 122    1\n",
       " 298    1\n",
       " 58     0\n",
       " 29     1\n",
       " 107    1\n",
       " 287    1\n",
       " 276    0\n",
       " 387    0\n",
       " 44     0\n",
       " 236    1\n",
       " 193    0\n",
       " 188    0\n",
       " 61     1\n",
       " 238    1\n",
       " 75     0\n",
       " 135    0\n",
       " 203    0\n",
       " 156    1\n",
       " 362    0\n",
       " 272    1\n",
       " 392    0\n",
       " 131    0\n",
       " 258    1\n",
       " 222    1\n",
       " 117    1\n",
       " 328    0\n",
       " 148    0\n",
       " 252    0\n",
       " 311    1\n",
       " 19     0\n",
       " Name: G3, Length: 119, dtype: int32)"
      ]
     },
     "execution_count": 316,
     "metadata": {},
     "output_type": "execute_result"
    }
   ],
   "source": [
    "data = data.drop([\"G1\",\"G2\"], axis=1)\n",
    "data = pd.get_dummies(data,drop_first = True)\n",
    "train, test = train_test_split(data, test_size=0.3,random_state=23)\n",
    "X_train=train.drop(['G3'], axis = 1)\n",
    "y_train=train['G3']\n",
    "X_test=test.drop(['G3'],axis = 1)\n",
    "y_test=test['G3']\n",
    "X_train, y_train, X_test, y_test"
   ]
  },
  {
   "cell_type": "markdown",
   "metadata": {},
   "source": [
    "## Normalized"
   ]
  },
  {
   "cell_type": "code",
   "execution_count": 317,
   "metadata": {
    "collapsed": true
   },
   "outputs": [],
   "source": [
    "from sklearn.preprocessing import StandardScaler\n",
    "X_sca = StandardScaler()\n",
    "X_train = X_sca.fit_transform(X_train)\n",
    "X_test = X_sca.transform(X_test)"
   ]
  },
  {
   "cell_type": "markdown",
   "metadata": {},
   "source": [
    "## Linear SVM"
   ]
  },
  {
   "cell_type": "code",
   "execution_count": 340,
   "metadata": {},
   "outputs": [
    {
     "name": "stdout",
     "output_type": "stream",
     "text": [
      "Train accuracy = 79.71%\n",
      "Test accuracy = 59.66%\n",
      "\n",
      " Confusion Matrix: \n",
      "\n",
      "[[25 22]\n",
      " [26 46]]\n",
      "\n",
      " Classification Report: \n",
      "\n",
      "             precision    recall  f1-score   support\n",
      "\n",
      "          0       0.49      0.53      0.51        47\n",
      "          1       0.68      0.64      0.66        72\n",
      "\n",
      "avg / total       0.60      0.60      0.60       119\n",
      "\n"
     ]
    }
   ],
   "source": [
    "from sklearn.svm import SVC #support vector classifier\n",
    "clf = SVC(kernel='linear', random_state=111,class_weight='balanced').fit(X_train, y_train)\n",
    "y_pred = clf.predict(X_test)\n",
    "from sklearn.metrics import confusion_matrix\n",
    "cm = confusion_matrix(y_test, y_pred)\n",
    "print('Train accuracy = {0}%'.format(np.round(clf.score(X_train, y_train) * 100, 2)))\n",
    "print('Test accuracy = {0}%'.format(np.round(clf.score(X_test, y_test) * 100, 2)))\n",
    "predictions = clf.predict(X_test)\n",
    "print(\"\\n Confusion Matrix: \\n\")\n",
    "print(confusion_matrix(y_test.values, predictions))\n",
    "print(\"\\n Classification Report: \\n\")\n",
    "print(classification_report(y_test.values, predictions))\n"
   ]
  },
  {
   "cell_type": "markdown",
   "metadata": {},
   "source": [
    "### Tuning penalty parameter C"
   ]
  },
  {
   "cell_type": "code",
   "execution_count": 344,
   "metadata": {},
   "outputs": [],
   "source": [
    "accuracy_test=[None]*10\n",
    "accuracy_train=[None]*10\n",
    "c = [None]*10\n",
    "count=0\n",
    "c[0] = 1\n",
    "for i in range(10):\n",
    "    clf = svm.SVC(C= c[i], random_state=111, kernel='linear',class_weight='balanced', verbose=False, max_iter=-1, decision_function_shape='ovr').fit(X_train, y_train)\n",
    "    accuracy_train[i] = np.round(clf.score(X_train, y_train) * 100, 2)\n",
    "    accuracy_test[i] = np.round(clf.score(X_test, y_test) * 100, 2)\n",
    "    if i < 9:\n",
    "        c[i+1] = c[i] + 0.5"
   ]
  },
  {
   "cell_type": "code",
   "execution_count": 345,
   "metadata": {},
   "outputs": [
    {
     "data": {
      "text/plain": [
       "[<matplotlib.lines.Line2D at 0x1f8dd0b79e8>]"
      ]
     },
     "execution_count": 345,
     "metadata": {},
     "output_type": "execute_result"
    },
    {
     "data": {
      "text/plain": [
       "[<matplotlib.lines.Line2D at 0x1f8dd11d6d8>]"
      ]
     },
     "execution_count": 345,
     "metadata": {},
     "output_type": "execute_result"
    },
    {
     "data": {
      "text/plain": [
       "<matplotlib.text.Text at 0x1f8dd0eecc0>"
      ]
     },
     "execution_count": 345,
     "metadata": {},
     "output_type": "execute_result"
    },
    {
     "data": {
      "text/plain": [
       "<matplotlib.text.Text at 0x1f8dcdcc860>"
      ]
     },
     "execution_count": 345,
     "metadata": {},
     "output_type": "execute_result"
    },
    {
     "data": {
      "text/plain": [
       "<matplotlib.text.Text at 0x1f8dd0c7ba8>"
      ]
     },
     "execution_count": 345,
     "metadata": {},
     "output_type": "execute_result"
    },
    {
     "data": {
      "text/plain": [
       "<matplotlib.legend.Legend at 0x1f8dd127940>"
      ]
     },
     "execution_count": 345,
     "metadata": {},
     "output_type": "execute_result"
    },
    {
     "data": {
      "image/png": "[encoded data removed]",
      "text/plain": [
       "<matplotlib.figure.Figure at 0x1f8dd0b7a20>"
      ]
     },
     "metadata": {},
     "output_type": "display_data"
    }
   ],
   "source": [
    "ax1 = plt.subplot2grid((6,1),(0,0),rowspan=5,colspan=1)\n",
    "ax1.plot(c,accuracy_test)\n",
    "ax1.plot(c,accuracy_train)\n",
    "\n",
    "\n",
    "plt.title(\"SVM | Accuracy vs C-value\")\n",
    "plt.xlabel(\"C-value\")\n",
    "plt.ylabel(\"Accuracy\")\n",
    "\n",
    "plt.legend(['Test Set','Train Set'])"
   ]
  },
  {
   "cell_type": "markdown",
   "metadata": {},
   "source": [
    "### optimum penalty parameter value c = 1.40"
   ]
  },
  {
   "cell_type": "code",
   "execution_count": 346,
   "metadata": {},
   "outputs": [
    {
     "data": {
      "text/plain": [
       "SVC(C=1.4, cache_size=200, class_weight='balanced', coef0=0.0,\n",
       "  decision_function_shape='ovr', degree=3, gamma='auto', kernel='linear',\n",
       "  max_iter=-1, probability=False, random_state=111, shrinking=True,\n",
       "  tol=0.001, verbose=False)"
      ]
     },
     "execution_count": 346,
     "metadata": {},
     "output_type": "execute_result"
    },
    {
     "name": "stdout",
     "output_type": "stream",
     "text": [
      "Train accuracy = 80.07%\n",
      "Test accuracy = 59.66%\n",
      "\n",
      " Confusion Matrix: \n",
      "\n",
      "[[25 22]\n",
      " [26 46]]\n",
      "\n",
      " Classification Report: \n",
      "\n",
      "             precision    recall  f1-score   support\n",
      "\n",
      "          0       0.49      0.53      0.51        47\n",
      "          1       0.68      0.64      0.66        72\n",
      "\n",
      "avg / total       0.60      0.60      0.60       119\n",
      "\n"
     ]
    },
    {
     "data": {
      "text/plain": [
       "0.04684853553771973"
      ]
     },
     "execution_count": 346,
     "metadata": {},
     "output_type": "execute_result"
    }
   ],
   "source": [
    "start = time.time()\n",
    "\n",
    "clf = svm.SVC(C=1.40, random_state=111,kernel='linear', class_weight='balanced', verbose=False, max_iter=-1, decision_function_shape='ovr')\n",
    "clf.fit(X_train,y_train)\n",
    "print('Train accuracy = {0}%'.format(np.round(clf.score(X_train, y_train) * 100, 2)))\n",
    "print('Test accuracy = {0}%'.format(np.round(clf.score(X_test, y_test) * 100, 2)))\n",
    "predictions = clf.predict(X_test)\n",
    "print(\"\\n Confusion Matrix: \\n\")\n",
    "print(confusion_matrix(y_test.values, predictions))\n",
    "print(\"\\n Classification Report: \\n\")\n",
    "print(classification_report(y_test.values, predictions))\n",
    "\n",
    "end = time.time()\n",
    "timeTaken[0] =(end - start)\n",
    "timeTaken[0]"
   ]
  },
  {
   "cell_type": "markdown",
   "metadata": {},
   "source": [
    "## RBF SVM"
   ]
  },
  {
   "cell_type": "code",
   "execution_count": 411,
   "metadata": {},
   "outputs": [
    {
     "name": "stdout",
     "output_type": "stream",
     "text": [
      "Train accuracy = 94.2%\n",
      "Test accuracy = 58.82%\n",
      "\n",
      " Confusion Matrix: \n",
      "\n",
      "[[25 22]\n",
      " [27 45]]\n",
      "\n",
      " Classification Report: \n",
      "\n",
      "             precision    recall  f1-score   support\n",
      "\n",
      "          0       0.48      0.53      0.51        47\n",
      "          1       0.67      0.62      0.65        72\n",
      "\n",
      "avg / total       0.60      0.59      0.59       119\n",
      "\n"
     ]
    }
   ],
   "source": [
    "from sklearn.svm import SVC #support vector classifier\n",
    "clf = SVC(kernel='rbf', random_state=111, class_weight = 'balanced').fit(X_train, y_train)\n",
    "y_pred = clf.predict(X_test)\n",
    "from sklearn.metrics import confusion_matrix\n",
    "cm = confusion_matrix(y_test, y_pred)\n",
    "print('Train accuracy = {0}%'.format(np.round(clf.score(X_train, y_train) * 100, 2)))\n",
    "print('Test accuracy = {0}%'.format(np.round(clf.score(X_test, y_test) * 100, 2)))\n",
    "predictions = clf.predict(X_test)\n",
    "print(\"\\n Confusion Matrix: \\n\")\n",
    "print(confusion_matrix(y_test.values, predictions))\n",
    "print(\"\\n Classification Report: \\n\")\n",
    "print(classification_report(y_test.values, predictions))\n"
   ]
  },
  {
   "cell_type": "markdown",
   "metadata": {},
   "source": [
    "### Tuning C value using RBF kernel"
   ]
  },
  {
   "cell_type": "code",
   "execution_count": 412,
   "metadata": {},
   "outputs": [],
   "source": [
    "accuracy_test=[None]*20\n",
    "accuracy_train=[None]*20\n",
    "c = [None]*20\n",
    "count=0\n",
    "c[0] = 1\n",
    "for i in range(20):\n",
    "    clf = svm.SVC(C= c[i], random_state=111, kernel='rbf',class_weight='balanced', verbose=False, max_iter=-1, decision_function_shape='ovr').fit(X_train, y_train)\n",
    "    accuracy_train[i] = np.round(clf.score(X_train, y_train) * 100, 2)\n",
    "    accuracy_test[i] = np.round(clf.score(X_test, y_test) * 100, 2)\n",
    "    if i < 19:\n",
    "        c[i+1] = c[i] + 0.4"
   ]
  },
  {
   "cell_type": "code",
   "execution_count": 413,
   "metadata": {},
   "outputs": [
    {
     "data": {
      "text/plain": [
       "[<matplotlib.lines.Line2D at 0x1f8de4a89b0>]"
      ]
     },
     "execution_count": 413,
     "metadata": {},
     "output_type": "execute_result"
    },
    {
     "data": {
      "text/plain": [
       "[<matplotlib.lines.Line2D at 0x1f8de7b8080>]"
      ]
     },
     "execution_count": 413,
     "metadata": {},
     "output_type": "execute_result"
    },
    {
     "data": {
      "text/plain": [
       "<matplotlib.text.Text at 0x1f8de782668>"
      ]
     },
     "execution_count": 413,
     "metadata": {},
     "output_type": "execute_result"
    },
    {
     "data": {
      "text/plain": [
       "<matplotlib.text.Text at 0x1f8de6bb828>"
      ]
     },
     "execution_count": 413,
     "metadata": {},
     "output_type": "execute_result"
    },
    {
     "data": {
      "text/plain": [
       "<matplotlib.text.Text at 0x1f8de69ef98>"
      ]
     },
     "execution_count": 413,
     "metadata": {},
     "output_type": "execute_result"
    },
    {
     "data": {
      "text/plain": [
       "<matplotlib.legend.Legend at 0x1f8de7c1518>"
      ]
     },
     "execution_count": 413,
     "metadata": {},
     "output_type": "execute_result"
    },
    {
     "data": {
      "image/png": "[encoded data removed]",
      "text/plain": [
       "<matplotlib.figure.Figure at 0x1f8de721940>"
      ]
     },
     "metadata": {},
     "output_type": "display_data"
    }
   ],
   "source": [
    "ax1 = plt.subplot2grid((6,1),(0,0),rowspan=5,colspan=1)\n",
    "ax1.plot(c,accuracy_test)\n",
    "ax1.plot(c,accuracy_train)\n",
    "\n",
    "\n",
    "plt.title(\"SVM | Accuracy vs C-value\")\n",
    "plt.xlabel(\"C-value\")\n",
    "plt.ylabel(\"Accuracy\")\n",
    "\n",
    "plt.legend(['Test Set','Train Set'])"
   ]
  },
  {
   "cell_type": "markdown",
   "metadata": {},
   "source": [
    "### setting the c value to 6.2 which appears to be the optimum value"
   ]
  },
  {
   "cell_type": "code",
   "execution_count": 416,
   "metadata": {},
   "outputs": [
    {
     "data": {
      "text/plain": [
       "SVC(C=6.2, cache_size=200, class_weight='balanced', coef0=0.0,\n",
       "  decision_function_shape='ovr', degree=3, gamma='auto', kernel='rbf',\n",
       "  max_iter=-1, probability=False, random_state=111, shrinking=True,\n",
       "  tol=0.001, verbose=False)"
      ]
     },
     "execution_count": 416,
     "metadata": {},
     "output_type": "execute_result"
    },
    {
     "name": "stdout",
     "output_type": "stream",
     "text": [
      "Train accuracy = 100.0%\n",
      "Test accuracy = 61.34%\n",
      "\n",
      " Confusion Matrix: \n",
      "\n",
      "[[25 22]\n",
      " [24 48]]\n",
      "\n",
      " Classification Report: \n",
      "\n",
      "             precision    recall  f1-score   support\n",
      "\n",
      "          0       0.51      0.53      0.52        47\n",
      "          1       0.69      0.67      0.68        72\n",
      "\n",
      "avg / total       0.62      0.61      0.61       119\n",
      "\n"
     ]
    },
    {
     "data": {
      "text/plain": [
       "0.03124547004699707"
      ]
     },
     "execution_count": 416,
     "metadata": {},
     "output_type": "execute_result"
    }
   ],
   "source": [
    "start = time.time()\n",
    "\n",
    "clf = svm.SVC(C=6.2, random_state=111,kernel='rbf',class_weight = 'balanced', verbose=False, max_iter=-1, decision_function_shape='ovr')\n",
    "clf.fit(X_train,y_train)\n",
    "print('Train accuracy = {0}%'.format(np.round(clf.score(X_train, y_train) * 100, 2)))\n",
    "print('Test accuracy = {0}%'.format(np.round(clf.score(X_test, y_test) * 100, 2)))\n",
    "predictions = clf.predict(X_test)\n",
    "print(\"\\n Confusion Matrix: \\n\")\n",
    "print(confusion_matrix(y_test.values, predictions))\n",
    "print(\"\\n Classification Report: \\n\")\n",
    "print(classification_report(y_test.values, predictions))\n",
    "\n",
    "end = time.time()\n",
    "timeTaken[0] =(end - start)\n",
    "timeTaken[0]"
   ]
  },
  {
   "cell_type": "markdown",
   "metadata": {},
   "source": [
    "## Poly SVM \n",
    "** I have set the parameter degree = 2 which is the best one as per the experimentation carried by by me manually **"
   ]
  },
  {
   "cell_type": "code",
   "execution_count": 398,
   "metadata": {},
   "outputs": [
    {
     "name": "stdout",
     "output_type": "stream",
     "text": [
      "Train accuracy = 94.2%\n",
      "Test accuracy = 62.18%\n",
      "\n",
      " Confusion Matrix: \n",
      "\n",
      "[[18 29]\n",
      " [16 56]]\n",
      "\n",
      " Classification Report: \n",
      "\n",
      "             precision    recall  f1-score   support\n",
      "\n",
      "          0       0.53      0.38      0.44        47\n",
      "          1       0.66      0.78      0.71        72\n",
      "\n",
      "avg / total       0.61      0.62      0.61       119\n",
      "\n"
     ]
    }
   ],
   "source": [
    "from sklearn.svm import SVC #support vector classifier\n",
    "clf = SVC(kernel='poly', random_state=0, class_weight = 'balanced', degree=2).fit(X_train, y_train)\n",
    "y_pred = clf.predict(X_test)\n",
    "from sklearn.metrics import confusion_matrix\n",
    "cm = confusion_matrix(y_test, y_pred)\n",
    "print('Train accuracy = {0}%'.format(np.round(clf.score(X_train, y_train) * 100, 2)))\n",
    "print('Test accuracy = {0}%'.format(np.round(clf.score(X_test, y_test) * 100, 2)))\n",
    "predictions = clf.predict(X_test)\n",
    "print(\"\\n Confusion Matrix: \\n\")\n",
    "print(confusion_matrix(y_test.values, predictions))\n",
    "print(\"\\n Classification Report: \\n\")\n",
    "print(classification_report(y_test.values, predictions))\n"
   ]
  },
  {
   "cell_type": "markdown",
   "metadata": {},
   "source": [
    "## Plotting the Accuracy wrt penalty parameter C"
   ]
  },
  {
   "cell_type": "code",
   "execution_count": 407,
   "metadata": {
    "collapsed": true
   },
   "outputs": [],
   "source": [
    "accuracy_test=[None]*50\n",
    "accuracy_train=[None]*50\n",
    "c = [None]*50\n",
    "count=0\n",
    "c[0] = 1\n",
    "for i in range(50):\n",
    "    clf = svm.SVC(C= c[i], random_state=111, kernel='poly',degree=2, verbose=False, max_iter=-1, decision_function_shape='ovr').fit(X_train, y_train)\n",
    "    accuracy_train[i] = np.round(clf.score(X_train, y_train) * 100, 2)\n",
    "    accuracy_test[i] = np.round(clf.score(X_test, y_test) * 100, 2)\n",
    "    if i < 49:\n",
    "        c[i+1] = c[i] + 0.5"
   ]
  },
  {
   "cell_type": "code",
   "execution_count": 408,
   "metadata": {},
   "outputs": [
    {
     "data": {
      "text/plain": [
       "[<matplotlib.lines.Line2D at 0x1f8de60e4e0>]"
      ]
     },
     "execution_count": 408,
     "metadata": {},
     "output_type": "execute_result"
    },
    {
     "data": {
      "text/plain": [
       "[<matplotlib.lines.Line2D at 0x1f8de6f4748>]"
      ]
     },
     "execution_count": 408,
     "metadata": {},
     "output_type": "execute_result"
    },
    {
     "data": {
      "text/plain": [
       "<matplotlib.text.Text at 0x1f8de6c3d30>"
      ]
     },
     "execution_count": 408,
     "metadata": {},
     "output_type": "execute_result"
    },
    {
     "data": {
      "text/plain": [
       "<matplotlib.text.Text at 0x1f8de690a58>"
      ]
     },
     "execution_count": 408,
     "metadata": {},
     "output_type": "execute_result"
    },
    {
     "data": {
      "text/plain": [
       "<matplotlib.text.Text at 0x1f8de548e10>"
      ]
     },
     "execution_count": 408,
     "metadata": {},
     "output_type": "execute_result"
    },
    {
     "data": {
      "text/plain": [
       "<matplotlib.legend.Legend at 0x1f8de6fe358>"
      ]
     },
     "execution_count": 408,
     "metadata": {},
     "output_type": "execute_result"
    },
    {
     "data": {
      "image/png": "[encoded data removed]",
      "text/plain": [
       "<matplotlib.figure.Figure at 0x1f8de60e400>"
      ]
     },
     "metadata": {},
     "output_type": "display_data"
    }
   ],
   "source": [
    "ax1 = plt.subplot2grid((6,1),(0,0),rowspan=5,colspan=1)\n",
    "ax1.plot(c,accuracy_test)\n",
    "ax1.plot(c,accuracy_train)\n",
    "\n",
    "\n",
    "plt.title(\"SVM | Accuracy vs C-value\")\n",
    "plt.xlabel(\"C-value\")\n",
    "plt.ylabel(\"Accuracy\")\n",
    "\n",
    "plt.legend(['Test Set','Train Set'])"
   ]
  },
  {
   "cell_type": "markdown",
   "metadata": {},
   "source": [
    "### the default value c = 1 seems to be the appropriate in case of poly kernel function of degree = 2"
   ]
  }
 ],
 "metadata": {
  "kernelspec": {
   "display_name": "Python 3",
   "language": "python",
   "name": "python3"
  },
  "language_info": {
   "codemirror_mode": {
    "name": "ipython",
    "version": 3
   },
   "file_extension": ".py",
   "mimetype": "text/x-python",
   "name": "python",
   "nbconvert_exporter": "python",
   "pygments_lexer": "ipython3",
   "version": "3.6.1"
  }
 },
 "nbformat": 4,
 "nbformat_minor": 2
}
